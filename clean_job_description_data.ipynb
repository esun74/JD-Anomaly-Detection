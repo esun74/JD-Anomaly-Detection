{
  "nbformat": 4,
  "nbformat_minor": 0,
  "metadata": {
    "colab": {
      "name": "w266_clean_data",
      "provenance": [],
      "collapsed_sections": []
    },
    "kernelspec": {
      "name": "python3",
      "display_name": "Python 3"
    },
    "language_info": {
      "name": "python"
    },
    "widgets": {
      "application/vnd.jupyter.widget-state+json": {
        "3c0c5531e034405aa6e78749abe32b33": {
          "model_module": "@jupyter-widgets/controls",
          "model_name": "HBoxModel",
          "model_module_version": "1.5.0",
          "state": {
            "_dom_classes": [],
            "_model_module": "@jupyter-widgets/controls",
            "_model_module_version": "1.5.0",
            "_model_name": "HBoxModel",
            "_view_count": null,
            "_view_module": "@jupyter-widgets/controls",
            "_view_module_version": "1.5.0",
            "_view_name": "HBoxView",
            "box_style": "",
            "children": [
              "IPY_MODEL_906bacafd6b24eb0878d4d4e2f46af34",
              "IPY_MODEL_a076acc48bbc4adaa0389717dfc15f93",
              "IPY_MODEL_3e116df550e640fd9759dfe1c42c247f"
            ],
            "layout": "IPY_MODEL_2dad08c050c04f97856b70547b2f8e9c"
          }
        },
        "906bacafd6b24eb0878d4d4e2f46af34": {
          "model_module": "@jupyter-widgets/controls",
          "model_name": "HTMLModel",
          "model_module_version": "1.5.0",
          "state": {
            "_dom_classes": [],
            "_model_module": "@jupyter-widgets/controls",
            "_model_module_version": "1.5.0",
            "_model_name": "HTMLModel",
            "_view_count": null,
            "_view_module": "@jupyter-widgets/controls",
            "_view_module_version": "1.5.0",
            "_view_name": "HTMLView",
            "description": "",
            "description_tooltip": null,
            "layout": "IPY_MODEL_7f5e9e70677c4ab08e035d89f596a2a7",
            "placeholder": "​",
            "style": "IPY_MODEL_e2bf507c3b634e4ea6f88404a6198209",
            "value": "Downloading: 100%"
          }
        },
        "a076acc48bbc4adaa0389717dfc15f93": {
          "model_module": "@jupyter-widgets/controls",
          "model_name": "FloatProgressModel",
          "model_module_version": "1.5.0",
          "state": {
            "_dom_classes": [],
            "_model_module": "@jupyter-widgets/controls",
            "_model_module_version": "1.5.0",
            "_model_name": "FloatProgressModel",
            "_view_count": null,
            "_view_module": "@jupyter-widgets/controls",
            "_view_module_version": "1.5.0",
            "_view_name": "ProgressView",
            "bar_style": "success",
            "description": "",
            "description_tooltip": null,
            "layout": "IPY_MODEL_951fc2fad50e47c38566adbef5ebcb50",
            "max": 1200,
            "min": 0,
            "orientation": "horizontal",
            "style": "IPY_MODEL_80f83400de10484aa64039c347724a7a",
            "value": 1200
          }
        },
        "3e116df550e640fd9759dfe1c42c247f": {
          "model_module": "@jupyter-widgets/controls",
          "model_name": "HTMLModel",
          "model_module_version": "1.5.0",
          "state": {
            "_dom_classes": [],
            "_model_module": "@jupyter-widgets/controls",
            "_model_module_version": "1.5.0",
            "_model_name": "HTMLModel",
            "_view_count": null,
            "_view_module": "@jupyter-widgets/controls",
            "_view_module_version": "1.5.0",
            "_view_name": "HTMLView",
            "description": "",
            "description_tooltip": null,
            "layout": "IPY_MODEL_5605c60751794e70b291e489faa0dde5",
            "placeholder": "​",
            "style": "IPY_MODEL_9419fa2ce6804b3c9aa21882d4538a0f",
            "value": " 1.17k/1.17k [00:00&lt;00:00, 12.2kB/s]"
          }
        },
        "2dad08c050c04f97856b70547b2f8e9c": {
          "model_module": "@jupyter-widgets/base",
          "model_name": "LayoutModel",
          "model_module_version": "1.2.0",
          "state": {
            "_model_module": "@jupyter-widgets/base",
            "_model_module_version": "1.2.0",
            "_model_name": "LayoutModel",
            "_view_count": null,
            "_view_module": "@jupyter-widgets/base",
            "_view_module_version": "1.2.0",
            "_view_name": "LayoutView",
            "align_content": null,
            "align_items": null,
            "align_self": null,
            "border": null,
            "bottom": null,
            "display": null,
            "flex": null,
            "flex_flow": null,
            "grid_area": null,
            "grid_auto_columns": null,
            "grid_auto_flow": null,
            "grid_auto_rows": null,
            "grid_column": null,
            "grid_gap": null,
            "grid_row": null,
            "grid_template_areas": null,
            "grid_template_columns": null,
            "grid_template_rows": null,
            "height": null,
            "justify_content": null,
            "justify_items": null,
            "left": null,
            "margin": null,
            "max_height": null,
            "max_width": null,
            "min_height": null,
            "min_width": null,
            "object_fit": null,
            "object_position": null,
            "order": null,
            "overflow": null,
            "overflow_x": null,
            "overflow_y": null,
            "padding": null,
            "right": null,
            "top": null,
            "visibility": null,
            "width": null
          }
        },
        "7f5e9e70677c4ab08e035d89f596a2a7": {
          "model_module": "@jupyter-widgets/base",
          "model_name": "LayoutModel",
          "model_module_version": "1.2.0",
          "state": {
            "_model_module": "@jupyter-widgets/base",
            "_model_module_version": "1.2.0",
            "_model_name": "LayoutModel",
            "_view_count": null,
            "_view_module": "@jupyter-widgets/base",
            "_view_module_version": "1.2.0",
            "_view_name": "LayoutView",
            "align_content": null,
            "align_items": null,
            "align_self": null,
            "border": null,
            "bottom": null,
            "display": null,
            "flex": null,
            "flex_flow": null,
            "grid_area": null,
            "grid_auto_columns": null,
            "grid_auto_flow": null,
            "grid_auto_rows": null,
            "grid_column": null,
            "grid_gap": null,
            "grid_row": null,
            "grid_template_areas": null,
            "grid_template_columns": null,
            "grid_template_rows": null,
            "height": null,
            "justify_content": null,
            "justify_items": null,
            "left": null,
            "margin": null,
            "max_height": null,
            "max_width": null,
            "min_height": null,
            "min_width": null,
            "object_fit": null,
            "object_position": null,
            "order": null,
            "overflow": null,
            "overflow_x": null,
            "overflow_y": null,
            "padding": null,
            "right": null,
            "top": null,
            "visibility": null,
            "width": null
          }
        },
        "e2bf507c3b634e4ea6f88404a6198209": {
          "model_module": "@jupyter-widgets/controls",
          "model_name": "DescriptionStyleModel",
          "model_module_version": "1.5.0",
          "state": {
            "_model_module": "@jupyter-widgets/controls",
            "_model_module_version": "1.5.0",
            "_model_name": "DescriptionStyleModel",
            "_view_count": null,
            "_view_module": "@jupyter-widgets/base",
            "_view_module_version": "1.2.0",
            "_view_name": "StyleView",
            "description_width": ""
          }
        },
        "951fc2fad50e47c38566adbef5ebcb50": {
          "model_module": "@jupyter-widgets/base",
          "model_name": "LayoutModel",
          "model_module_version": "1.2.0",
          "state": {
            "_model_module": "@jupyter-widgets/base",
            "_model_module_version": "1.2.0",
            "_model_name": "LayoutModel",
            "_view_count": null,
            "_view_module": "@jupyter-widgets/base",
            "_view_module_version": "1.2.0",
            "_view_name": "LayoutView",
            "align_content": null,
            "align_items": null,
            "align_self": null,
            "border": null,
            "bottom": null,
            "display": null,
            "flex": null,
            "flex_flow": null,
            "grid_area": null,
            "grid_auto_columns": null,
            "grid_auto_flow": null,
            "grid_auto_rows": null,
            "grid_column": null,
            "grid_gap": null,
            "grid_row": null,
            "grid_template_areas": null,
            "grid_template_columns": null,
            "grid_template_rows": null,
            "height": null,
            "justify_content": null,
            "justify_items": null,
            "left": null,
            "margin": null,
            "max_height": null,
            "max_width": null,
            "min_height": null,
            "min_width": null,
            "object_fit": null,
            "object_position": null,
            "order": null,
            "overflow": null,
            "overflow_x": null,
            "overflow_y": null,
            "padding": null,
            "right": null,
            "top": null,
            "visibility": null,
            "width": null
          }
        },
        "80f83400de10484aa64039c347724a7a": {
          "model_module": "@jupyter-widgets/controls",
          "model_name": "ProgressStyleModel",
          "model_module_version": "1.5.0",
          "state": {
            "_model_module": "@jupyter-widgets/controls",
            "_model_module_version": "1.5.0",
            "_model_name": "ProgressStyleModel",
            "_view_count": null,
            "_view_module": "@jupyter-widgets/base",
            "_view_module_version": "1.2.0",
            "_view_name": "StyleView",
            "bar_color": null,
            "description_width": ""
          }
        },
        "5605c60751794e70b291e489faa0dde5": {
          "model_module": "@jupyter-widgets/base",
          "model_name": "LayoutModel",
          "model_module_version": "1.2.0",
          "state": {
            "_model_module": "@jupyter-widgets/base",
            "_model_module_version": "1.2.0",
            "_model_name": "LayoutModel",
            "_view_count": null,
            "_view_module": "@jupyter-widgets/base",
            "_view_module_version": "1.2.0",
            "_view_name": "LayoutView",
            "align_content": null,
            "align_items": null,
            "align_self": null,
            "border": null,
            "bottom": null,
            "display": null,
            "flex": null,
            "flex_flow": null,
            "grid_area": null,
            "grid_auto_columns": null,
            "grid_auto_flow": null,
            "grid_auto_rows": null,
            "grid_column": null,
            "grid_gap": null,
            "grid_row": null,
            "grid_template_areas": null,
            "grid_template_columns": null,
            "grid_template_rows": null,
            "height": null,
            "justify_content": null,
            "justify_items": null,
            "left": null,
            "margin": null,
            "max_height": null,
            "max_width": null,
            "min_height": null,
            "min_width": null,
            "object_fit": null,
            "object_position": null,
            "order": null,
            "overflow": null,
            "overflow_x": null,
            "overflow_y": null,
            "padding": null,
            "right": null,
            "top": null,
            "visibility": null,
            "width": null
          }
        },
        "9419fa2ce6804b3c9aa21882d4538a0f": {
          "model_module": "@jupyter-widgets/controls",
          "model_name": "DescriptionStyleModel",
          "model_module_version": "1.5.0",
          "state": {
            "_model_module": "@jupyter-widgets/controls",
            "_model_module_version": "1.5.0",
            "_model_name": "DescriptionStyleModel",
            "_view_count": null,
            "_view_module": "@jupyter-widgets/base",
            "_view_module_version": "1.2.0",
            "_view_name": "StyleView",
            "description_width": ""
          }
        },
        "7f4b3c40dc884ad2809e96241f3febad": {
          "model_module": "@jupyter-widgets/controls",
          "model_name": "HBoxModel",
          "model_module_version": "1.5.0",
          "state": {
            "_dom_classes": [],
            "_model_module": "@jupyter-widgets/controls",
            "_model_module_version": "1.5.0",
            "_model_name": "HBoxModel",
            "_view_count": null,
            "_view_module": "@jupyter-widgets/controls",
            "_view_module_version": "1.5.0",
            "_view_name": "HBoxView",
            "box_style": "",
            "children": [
              "IPY_MODEL_b4c51346d9c644479bc1106917ec8645",
              "IPY_MODEL_4cfdbb989c804018935185391f1f2f16",
              "IPY_MODEL_3d78efaa664f4001b8d14ef624e268c5"
            ],
            "layout": "IPY_MODEL_e58baabf3c174057842b550f51295a60"
          }
        },
        "b4c51346d9c644479bc1106917ec8645": {
          "model_module": "@jupyter-widgets/controls",
          "model_name": "HTMLModel",
          "model_module_version": "1.5.0",
          "state": {
            "_dom_classes": [],
            "_model_module": "@jupyter-widgets/controls",
            "_model_module_version": "1.5.0",
            "_model_name": "HTMLModel",
            "_view_count": null,
            "_view_module": "@jupyter-widgets/controls",
            "_view_module_version": "1.5.0",
            "_view_name": "HTMLView",
            "description": "",
            "description_tooltip": null,
            "layout": "IPY_MODEL_8f82bec8e8c14b68986cef99579e3346",
            "placeholder": "​",
            "style": "IPY_MODEL_b8cdd917629740c19e351ff4a6269150",
            "value": "Downloading: 100%"
          }
        },
        "4cfdbb989c804018935185391f1f2f16": {
          "model_module": "@jupyter-widgets/controls",
          "model_name": "FloatProgressModel",
          "model_module_version": "1.5.0",
          "state": {
            "_dom_classes": [],
            "_model_module": "@jupyter-widgets/controls",
            "_model_module_version": "1.5.0",
            "_model_name": "FloatProgressModel",
            "_view_count": null,
            "_view_module": "@jupyter-widgets/controls",
            "_view_module_version": "1.5.0",
            "_view_name": "ProgressView",
            "bar_style": "success",
            "description": "",
            "description_tooltip": null,
            "layout": "IPY_MODEL_e57d6e690e634882aafc59d1fb821261",
            "max": 2951710928,
            "min": 0,
            "orientation": "horizontal",
            "style": "IPY_MODEL_f6736a563a8a408fabb8d970d62b938a",
            "value": 2951710928
          }
        },
        "3d78efaa664f4001b8d14ef624e268c5": {
          "model_module": "@jupyter-widgets/controls",
          "model_name": "HTMLModel",
          "model_module_version": "1.5.0",
          "state": {
            "_dom_classes": [],
            "_model_module": "@jupyter-widgets/controls",
            "_model_module_version": "1.5.0",
            "_model_name": "HTMLModel",
            "_view_count": null,
            "_view_module": "@jupyter-widgets/controls",
            "_view_module_version": "1.5.0",
            "_view_name": "HTMLView",
            "description": "",
            "description_tooltip": null,
            "layout": "IPY_MODEL_f9bacf413b3a4d9380dac2d4f8d3660e",
            "placeholder": "​",
            "style": "IPY_MODEL_34f04bfbb5254413af203bed9eb2cae2",
            "value": " 2.75G/2.75G [01:36&lt;00:00, 38.8MB/s]"
          }
        },
        "e58baabf3c174057842b550f51295a60": {
          "model_module": "@jupyter-widgets/base",
          "model_name": "LayoutModel",
          "model_module_version": "1.2.0",
          "state": {
            "_model_module": "@jupyter-widgets/base",
            "_model_module_version": "1.2.0",
            "_model_name": "LayoutModel",
            "_view_count": null,
            "_view_module": "@jupyter-widgets/base",
            "_view_module_version": "1.2.0",
            "_view_name": "LayoutView",
            "align_content": null,
            "align_items": null,
            "align_self": null,
            "border": null,
            "bottom": null,
            "display": null,
            "flex": null,
            "flex_flow": null,
            "grid_area": null,
            "grid_auto_columns": null,
            "grid_auto_flow": null,
            "grid_auto_rows": null,
            "grid_column": null,
            "grid_gap": null,
            "grid_row": null,
            "grid_template_areas": null,
            "grid_template_columns": null,
            "grid_template_rows": null,
            "height": null,
            "justify_content": null,
            "justify_items": null,
            "left": null,
            "margin": null,
            "max_height": null,
            "max_width": null,
            "min_height": null,
            "min_width": null,
            "object_fit": null,
            "object_position": null,
            "order": null,
            "overflow": null,
            "overflow_x": null,
            "overflow_y": null,
            "padding": null,
            "right": null,
            "top": null,
            "visibility": null,
            "width": null
          }
        },
        "8f82bec8e8c14b68986cef99579e3346": {
          "model_module": "@jupyter-widgets/base",
          "model_name": "LayoutModel",
          "model_module_version": "1.2.0",
          "state": {
            "_model_module": "@jupyter-widgets/base",
            "_model_module_version": "1.2.0",
            "_model_name": "LayoutModel",
            "_view_count": null,
            "_view_module": "@jupyter-widgets/base",
            "_view_module_version": "1.2.0",
            "_view_name": "LayoutView",
            "align_content": null,
            "align_items": null,
            "align_self": null,
            "border": null,
            "bottom": null,
            "display": null,
            "flex": null,
            "flex_flow": null,
            "grid_area": null,
            "grid_auto_columns": null,
            "grid_auto_flow": null,
            "grid_auto_rows": null,
            "grid_column": null,
            "grid_gap": null,
            "grid_row": null,
            "grid_template_areas": null,
            "grid_template_columns": null,
            "grid_template_rows": null,
            "height": null,
            "justify_content": null,
            "justify_items": null,
            "left": null,
            "margin": null,
            "max_height": null,
            "max_width": null,
            "min_height": null,
            "min_width": null,
            "object_fit": null,
            "object_position": null,
            "order": null,
            "overflow": null,
            "overflow_x": null,
            "overflow_y": null,
            "padding": null,
            "right": null,
            "top": null,
            "visibility": null,
            "width": null
          }
        },
        "b8cdd917629740c19e351ff4a6269150": {
          "model_module": "@jupyter-widgets/controls",
          "model_name": "DescriptionStyleModel",
          "model_module_version": "1.5.0",
          "state": {
            "_model_module": "@jupyter-widgets/controls",
            "_model_module_version": "1.5.0",
            "_model_name": "DescriptionStyleModel",
            "_view_count": null,
            "_view_module": "@jupyter-widgets/base",
            "_view_module_version": "1.2.0",
            "_view_name": "StyleView",
            "description_width": ""
          }
        },
        "e57d6e690e634882aafc59d1fb821261": {
          "model_module": "@jupyter-widgets/base",
          "model_name": "LayoutModel",
          "model_module_version": "1.2.0",
          "state": {
            "_model_module": "@jupyter-widgets/base",
            "_model_module_version": "1.2.0",
            "_model_name": "LayoutModel",
            "_view_count": null,
            "_view_module": "@jupyter-widgets/base",
            "_view_module_version": "1.2.0",
            "_view_name": "LayoutView",
            "align_content": null,
            "align_items": null,
            "align_self": null,
            "border": null,
            "bottom": null,
            "display": null,
            "flex": null,
            "flex_flow": null,
            "grid_area": null,
            "grid_auto_columns": null,
            "grid_auto_flow": null,
            "grid_auto_rows": null,
            "grid_column": null,
            "grid_gap": null,
            "grid_row": null,
            "grid_template_areas": null,
            "grid_template_columns": null,
            "grid_template_rows": null,
            "height": null,
            "justify_content": null,
            "justify_items": null,
            "left": null,
            "margin": null,
            "max_height": null,
            "max_width": null,
            "min_height": null,
            "min_width": null,
            "object_fit": null,
            "object_position": null,
            "order": null,
            "overflow": null,
            "overflow_x": null,
            "overflow_y": null,
            "padding": null,
            "right": null,
            "top": null,
            "visibility": null,
            "width": null
          }
        },
        "f6736a563a8a408fabb8d970d62b938a": {
          "model_module": "@jupyter-widgets/controls",
          "model_name": "ProgressStyleModel",
          "model_module_version": "1.5.0",
          "state": {
            "_model_module": "@jupyter-widgets/controls",
            "_model_module_version": "1.5.0",
            "_model_name": "ProgressStyleModel",
            "_view_count": null,
            "_view_module": "@jupyter-widgets/base",
            "_view_module_version": "1.2.0",
            "_view_name": "StyleView",
            "bar_color": null,
            "description_width": ""
          }
        },
        "f9bacf413b3a4d9380dac2d4f8d3660e": {
          "model_module": "@jupyter-widgets/base",
          "model_name": "LayoutModel",
          "model_module_version": "1.2.0",
          "state": {
            "_model_module": "@jupyter-widgets/base",
            "_model_module_version": "1.2.0",
            "_model_name": "LayoutModel",
            "_view_count": null,
            "_view_module": "@jupyter-widgets/base",
            "_view_module_version": "1.2.0",
            "_view_name": "LayoutView",
            "align_content": null,
            "align_items": null,
            "align_self": null,
            "border": null,
            "bottom": null,
            "display": null,
            "flex": null,
            "flex_flow": null,
            "grid_area": null,
            "grid_auto_columns": null,
            "grid_auto_flow": null,
            "grid_auto_rows": null,
            "grid_column": null,
            "grid_gap": null,
            "grid_row": null,
            "grid_template_areas": null,
            "grid_template_columns": null,
            "grid_template_rows": null,
            "height": null,
            "justify_content": null,
            "justify_items": null,
            "left": null,
            "margin": null,
            "max_height": null,
            "max_width": null,
            "min_height": null,
            "min_width": null,
            "object_fit": null,
            "object_position": null,
            "order": null,
            "overflow": null,
            "overflow_x": null,
            "overflow_y": null,
            "padding": null,
            "right": null,
            "top": null,
            "visibility": null,
            "width": null
          }
        },
        "34f04bfbb5254413af203bed9eb2cae2": {
          "model_module": "@jupyter-widgets/controls",
          "model_name": "DescriptionStyleModel",
          "model_module_version": "1.5.0",
          "state": {
            "_model_module": "@jupyter-widgets/controls",
            "_model_module_version": "1.5.0",
            "_model_name": "DescriptionStyleModel",
            "_view_count": null,
            "_view_module": "@jupyter-widgets/base",
            "_view_module_version": "1.2.0",
            "_view_name": "StyleView",
            "description_width": ""
          }
        },
        "f967ee31af4b41b195df998e95bb779f": {
          "model_module": "@jupyter-widgets/controls",
          "model_name": "HBoxModel",
          "model_module_version": "1.5.0",
          "state": {
            "_dom_classes": [],
            "_model_module": "@jupyter-widgets/controls",
            "_model_module_version": "1.5.0",
            "_model_name": "HBoxModel",
            "_view_count": null,
            "_view_module": "@jupyter-widgets/controls",
            "_view_module_version": "1.5.0",
            "_view_name": "HBoxView",
            "box_style": "",
            "children": [
              "IPY_MODEL_eae295b509834c539a68c36d21ede448",
              "IPY_MODEL_337164757cd14251b1094419b1066b5d",
              "IPY_MODEL_b64e63b323f644ffa0a51a3464bbf667"
            ],
            "layout": "IPY_MODEL_742d2c72a1cd4dd98baf37d2a1a1e0ba"
          }
        },
        "eae295b509834c539a68c36d21ede448": {
          "model_module": "@jupyter-widgets/controls",
          "model_name": "HTMLModel",
          "model_module_version": "1.5.0",
          "state": {
            "_dom_classes": [],
            "_model_module": "@jupyter-widgets/controls",
            "_model_module_version": "1.5.0",
            "_model_name": "HTMLModel",
            "_view_count": null,
            "_view_module": "@jupyter-widgets/controls",
            "_view_module_version": "1.5.0",
            "_view_name": "HTMLView",
            "description": "",
            "description_tooltip": null,
            "layout": "IPY_MODEL_27ca59945a904531b91c47319401d75e",
            "placeholder": "​",
            "style": "IPY_MODEL_1302120fcb6947008461674a957ec4a9",
            "value": "Downloading: 100%"
          }
        },
        "337164757cd14251b1094419b1066b5d": {
          "model_module": "@jupyter-widgets/controls",
          "model_name": "FloatProgressModel",
          "model_module_version": "1.5.0",
          "state": {
            "_dom_classes": [],
            "_model_module": "@jupyter-widgets/controls",
            "_model_module_version": "1.5.0",
            "_model_name": "FloatProgressModel",
            "_view_count": null,
            "_view_module": "@jupyter-widgets/controls",
            "_view_module_version": "1.5.0",
            "_view_name": "ProgressView",
            "bar_style": "success",
            "description": "",
            "description_tooltip": null,
            "layout": "IPY_MODEL_59b27b08f4664529a5a72c085b879493",
            "max": 791656,
            "min": 0,
            "orientation": "horizontal",
            "style": "IPY_MODEL_a9cd67e1a5dc4f388300de1781b02d0e",
            "value": 791656
          }
        },
        "b64e63b323f644ffa0a51a3464bbf667": {
          "model_module": "@jupyter-widgets/controls",
          "model_name": "HTMLModel",
          "model_module_version": "1.5.0",
          "state": {
            "_dom_classes": [],
            "_model_module": "@jupyter-widgets/controls",
            "_model_module_version": "1.5.0",
            "_model_name": "HTMLModel",
            "_view_count": null,
            "_view_module": "@jupyter-widgets/controls",
            "_view_module_version": "1.5.0",
            "_view_name": "HTMLView",
            "description": "",
            "description_tooltip": null,
            "layout": "IPY_MODEL_583def0035424cfa8800267573a5ca1c",
            "placeholder": "​",
            "style": "IPY_MODEL_764f928e2d31489ab7790e4bbdc4f470",
            "value": " 773k/773k [00:00&lt;00:00, 1.22MB/s]"
          }
        },
        "742d2c72a1cd4dd98baf37d2a1a1e0ba": {
          "model_module": "@jupyter-widgets/base",
          "model_name": "LayoutModel",
          "model_module_version": "1.2.0",
          "state": {
            "_model_module": "@jupyter-widgets/base",
            "_model_module_version": "1.2.0",
            "_model_name": "LayoutModel",
            "_view_count": null,
            "_view_module": "@jupyter-widgets/base",
            "_view_module_version": "1.2.0",
            "_view_name": "LayoutView",
            "align_content": null,
            "align_items": null,
            "align_self": null,
            "border": null,
            "bottom": null,
            "display": null,
            "flex": null,
            "flex_flow": null,
            "grid_area": null,
            "grid_auto_columns": null,
            "grid_auto_flow": null,
            "grid_auto_rows": null,
            "grid_column": null,
            "grid_gap": null,
            "grid_row": null,
            "grid_template_areas": null,
            "grid_template_columns": null,
            "grid_template_rows": null,
            "height": null,
            "justify_content": null,
            "justify_items": null,
            "left": null,
            "margin": null,
            "max_height": null,
            "max_width": null,
            "min_height": null,
            "min_width": null,
            "object_fit": null,
            "object_position": null,
            "order": null,
            "overflow": null,
            "overflow_x": null,
            "overflow_y": null,
            "padding": null,
            "right": null,
            "top": null,
            "visibility": null,
            "width": null
          }
        },
        "27ca59945a904531b91c47319401d75e": {
          "model_module": "@jupyter-widgets/base",
          "model_name": "LayoutModel",
          "model_module_version": "1.2.0",
          "state": {
            "_model_module": "@jupyter-widgets/base",
            "_model_module_version": "1.2.0",
            "_model_name": "LayoutModel",
            "_view_count": null,
            "_view_module": "@jupyter-widgets/base",
            "_view_module_version": "1.2.0",
            "_view_name": "LayoutView",
            "align_content": null,
            "align_items": null,
            "align_self": null,
            "border": null,
            "bottom": null,
            "display": null,
            "flex": null,
            "flex_flow": null,
            "grid_area": null,
            "grid_auto_columns": null,
            "grid_auto_flow": null,
            "grid_auto_rows": null,
            "grid_column": null,
            "grid_gap": null,
            "grid_row": null,
            "grid_template_areas": null,
            "grid_template_columns": null,
            "grid_template_rows": null,
            "height": null,
            "justify_content": null,
            "justify_items": null,
            "left": null,
            "margin": null,
            "max_height": null,
            "max_width": null,
            "min_height": null,
            "min_width": null,
            "object_fit": null,
            "object_position": null,
            "order": null,
            "overflow": null,
            "overflow_x": null,
            "overflow_y": null,
            "padding": null,
            "right": null,
            "top": null,
            "visibility": null,
            "width": null
          }
        },
        "1302120fcb6947008461674a957ec4a9": {
          "model_module": "@jupyter-widgets/controls",
          "model_name": "DescriptionStyleModel",
          "model_module_version": "1.5.0",
          "state": {
            "_model_module": "@jupyter-widgets/controls",
            "_model_module_version": "1.5.0",
            "_model_name": "DescriptionStyleModel",
            "_view_count": null,
            "_view_module": "@jupyter-widgets/base",
            "_view_module_version": "1.2.0",
            "_view_name": "StyleView",
            "description_width": ""
          }
        },
        "59b27b08f4664529a5a72c085b879493": {
          "model_module": "@jupyter-widgets/base",
          "model_name": "LayoutModel",
          "model_module_version": "1.2.0",
          "state": {
            "_model_module": "@jupyter-widgets/base",
            "_model_module_version": "1.2.0",
            "_model_name": "LayoutModel",
            "_view_count": null,
            "_view_module": "@jupyter-widgets/base",
            "_view_module_version": "1.2.0",
            "_view_name": "LayoutView",
            "align_content": null,
            "align_items": null,
            "align_self": null,
            "border": null,
            "bottom": null,
            "display": null,
            "flex": null,
            "flex_flow": null,
            "grid_area": null,
            "grid_auto_columns": null,
            "grid_auto_flow": null,
            "grid_auto_rows": null,
            "grid_column": null,
            "grid_gap": null,
            "grid_row": null,
            "grid_template_areas": null,
            "grid_template_columns": null,
            "grid_template_rows": null,
            "height": null,
            "justify_content": null,
            "justify_items": null,
            "left": null,
            "margin": null,
            "max_height": null,
            "max_width": null,
            "min_height": null,
            "min_width": null,
            "object_fit": null,
            "object_position": null,
            "order": null,
            "overflow": null,
            "overflow_x": null,
            "overflow_y": null,
            "padding": null,
            "right": null,
            "top": null,
            "visibility": null,
            "width": null
          }
        },
        "a9cd67e1a5dc4f388300de1781b02d0e": {
          "model_module": "@jupyter-widgets/controls",
          "model_name": "ProgressStyleModel",
          "model_module_version": "1.5.0",
          "state": {
            "_model_module": "@jupyter-widgets/controls",
            "_model_module_version": "1.5.0",
            "_model_name": "ProgressStyleModel",
            "_view_count": null,
            "_view_module": "@jupyter-widgets/base",
            "_view_module_version": "1.2.0",
            "_view_name": "StyleView",
            "bar_color": null,
            "description_width": ""
          }
        },
        "583def0035424cfa8800267573a5ca1c": {
          "model_module": "@jupyter-widgets/base",
          "model_name": "LayoutModel",
          "model_module_version": "1.2.0",
          "state": {
            "_model_module": "@jupyter-widgets/base",
            "_model_module_version": "1.2.0",
            "_model_name": "LayoutModel",
            "_view_count": null,
            "_view_module": "@jupyter-widgets/base",
            "_view_module_version": "1.2.0",
            "_view_name": "LayoutView",
            "align_content": null,
            "align_items": null,
            "align_self": null,
            "border": null,
            "bottom": null,
            "display": null,
            "flex": null,
            "flex_flow": null,
            "grid_area": null,
            "grid_auto_columns": null,
            "grid_auto_flow": null,
            "grid_auto_rows": null,
            "grid_column": null,
            "grid_gap": null,
            "grid_row": null,
            "grid_template_areas": null,
            "grid_template_columns": null,
            "grid_template_rows": null,
            "height": null,
            "justify_content": null,
            "justify_items": null,
            "left": null,
            "margin": null,
            "max_height": null,
            "max_width": null,
            "min_height": null,
            "min_width": null,
            "object_fit": null,
            "object_position": null,
            "order": null,
            "overflow": null,
            "overflow_x": null,
            "overflow_y": null,
            "padding": null,
            "right": null,
            "top": null,
            "visibility": null,
            "width": null
          }
        },
        "764f928e2d31489ab7790e4bbdc4f470": {
          "model_module": "@jupyter-widgets/controls",
          "model_name": "DescriptionStyleModel",
          "model_module_version": "1.5.0",
          "state": {
            "_model_module": "@jupyter-widgets/controls",
            "_model_module_version": "1.5.0",
            "_model_name": "DescriptionStyleModel",
            "_view_count": null,
            "_view_module": "@jupyter-widgets/base",
            "_view_module_version": "1.2.0",
            "_view_name": "StyleView",
            "description_width": ""
          }
        },
        "13a777e1ec1241f8928907e0c457772e": {
          "model_module": "@jupyter-widgets/controls",
          "model_name": "HBoxModel",
          "model_module_version": "1.5.0",
          "state": {
            "_dom_classes": [],
            "_model_module": "@jupyter-widgets/controls",
            "_model_module_version": "1.5.0",
            "_model_name": "HBoxModel",
            "_view_count": null,
            "_view_module": "@jupyter-widgets/controls",
            "_view_module_version": "1.5.0",
            "_view_name": "HBoxView",
            "box_style": "",
            "children": [
              "IPY_MODEL_b885dc55605747ca841d424d6b515c74",
              "IPY_MODEL_4f3f89b700fe4ffb9e77157e1a29f54f",
              "IPY_MODEL_086937ac7c114bbd8fe3ec019a44b40f"
            ],
            "layout": "IPY_MODEL_7c80e743af4e441e9dc6cab733aab535"
          }
        },
        "b885dc55605747ca841d424d6b515c74": {
          "model_module": "@jupyter-widgets/controls",
          "model_name": "HTMLModel",
          "model_module_version": "1.5.0",
          "state": {
            "_dom_classes": [],
            "_model_module": "@jupyter-widgets/controls",
            "_model_module_version": "1.5.0",
            "_model_name": "HTMLModel",
            "_view_count": null,
            "_view_module": "@jupyter-widgets/controls",
            "_view_module_version": "1.5.0",
            "_view_name": "HTMLView",
            "description": "",
            "description_tooltip": null,
            "layout": "IPY_MODEL_d48caf08ea9c4bf996bce0adb171bb8c",
            "placeholder": "​",
            "style": "IPY_MODEL_f2db70a9c20648a3a52ac84abdd7c503",
            "value": "Downloading: 100%"
          }
        },
        "4f3f89b700fe4ffb9e77157e1a29f54f": {
          "model_module": "@jupyter-widgets/controls",
          "model_name": "FloatProgressModel",
          "model_module_version": "1.5.0",
          "state": {
            "_dom_classes": [],
            "_model_module": "@jupyter-widgets/controls",
            "_model_module_version": "1.5.0",
            "_model_name": "FloatProgressModel",
            "_view_count": null,
            "_view_module": "@jupyter-widgets/controls",
            "_view_module_version": "1.5.0",
            "_view_name": "ProgressView",
            "bar_style": "success",
            "description": "",
            "description_tooltip": null,
            "layout": "IPY_MODEL_f8b8105de6044f11a2d89c42c3d0b503",
            "max": 1392,
            "min": 0,
            "orientation": "horizontal",
            "style": "IPY_MODEL_2d58eb17e11843c398e59c774db358f8",
            "value": 1392
          }
        },
        "086937ac7c114bbd8fe3ec019a44b40f": {
          "model_module": "@jupyter-widgets/controls",
          "model_name": "HTMLModel",
          "model_module_version": "1.5.0",
          "state": {
            "_dom_classes": [],
            "_model_module": "@jupyter-widgets/controls",
            "_model_module_version": "1.5.0",
            "_model_name": "HTMLModel",
            "_view_count": null,
            "_view_module": "@jupyter-widgets/controls",
            "_view_module_version": "1.5.0",
            "_view_name": "HTMLView",
            "description": "",
            "description_tooltip": null,
            "layout": "IPY_MODEL_2015a7e60b474ecfbf57c16cb3092e16",
            "placeholder": "​",
            "style": "IPY_MODEL_c439743b0acb4a84b345bc7a5e10635b",
            "value": " 1.36k/1.36k [00:00&lt;00:00, 32.1kB/s]"
          }
        },
        "7c80e743af4e441e9dc6cab733aab535": {
          "model_module": "@jupyter-widgets/base",
          "model_name": "LayoutModel",
          "model_module_version": "1.2.0",
          "state": {
            "_model_module": "@jupyter-widgets/base",
            "_model_module_version": "1.2.0",
            "_model_name": "LayoutModel",
            "_view_count": null,
            "_view_module": "@jupyter-widgets/base",
            "_view_module_version": "1.2.0",
            "_view_name": "LayoutView",
            "align_content": null,
            "align_items": null,
            "align_self": null,
            "border": null,
            "bottom": null,
            "display": null,
            "flex": null,
            "flex_flow": null,
            "grid_area": null,
            "grid_auto_columns": null,
            "grid_auto_flow": null,
            "grid_auto_rows": null,
            "grid_column": null,
            "grid_gap": null,
            "grid_row": null,
            "grid_template_areas": null,
            "grid_template_columns": null,
            "grid_template_rows": null,
            "height": null,
            "justify_content": null,
            "justify_items": null,
            "left": null,
            "margin": null,
            "max_height": null,
            "max_width": null,
            "min_height": null,
            "min_width": null,
            "object_fit": null,
            "object_position": null,
            "order": null,
            "overflow": null,
            "overflow_x": null,
            "overflow_y": null,
            "padding": null,
            "right": null,
            "top": null,
            "visibility": null,
            "width": null
          }
        },
        "d48caf08ea9c4bf996bce0adb171bb8c": {
          "model_module": "@jupyter-widgets/base",
          "model_name": "LayoutModel",
          "model_module_version": "1.2.0",
          "state": {
            "_model_module": "@jupyter-widgets/base",
            "_model_module_version": "1.2.0",
            "_model_name": "LayoutModel",
            "_view_count": null,
            "_view_module": "@jupyter-widgets/base",
            "_view_module_version": "1.2.0",
            "_view_name": "LayoutView",
            "align_content": null,
            "align_items": null,
            "align_self": null,
            "border": null,
            "bottom": null,
            "display": null,
            "flex": null,
            "flex_flow": null,
            "grid_area": null,
            "grid_auto_columns": null,
            "grid_auto_flow": null,
            "grid_auto_rows": null,
            "grid_column": null,
            "grid_gap": null,
            "grid_row": null,
            "grid_template_areas": null,
            "grid_template_columns": null,
            "grid_template_rows": null,
            "height": null,
            "justify_content": null,
            "justify_items": null,
            "left": null,
            "margin": null,
            "max_height": null,
            "max_width": null,
            "min_height": null,
            "min_width": null,
            "object_fit": null,
            "object_position": null,
            "order": null,
            "overflow": null,
            "overflow_x": null,
            "overflow_y": null,
            "padding": null,
            "right": null,
            "top": null,
            "visibility": null,
            "width": null
          }
        },
        "f2db70a9c20648a3a52ac84abdd7c503": {
          "model_module": "@jupyter-widgets/controls",
          "model_name": "DescriptionStyleModel",
          "model_module_version": "1.5.0",
          "state": {
            "_model_module": "@jupyter-widgets/controls",
            "_model_module_version": "1.5.0",
            "_model_name": "DescriptionStyleModel",
            "_view_count": null,
            "_view_module": "@jupyter-widgets/base",
            "_view_module_version": "1.2.0",
            "_view_name": "StyleView",
            "description_width": ""
          }
        },
        "f8b8105de6044f11a2d89c42c3d0b503": {
          "model_module": "@jupyter-widgets/base",
          "model_name": "LayoutModel",
          "model_module_version": "1.2.0",
          "state": {
            "_model_module": "@jupyter-widgets/base",
            "_model_module_version": "1.2.0",
            "_model_name": "LayoutModel",
            "_view_count": null,
            "_view_module": "@jupyter-widgets/base",
            "_view_module_version": "1.2.0",
            "_view_name": "LayoutView",
            "align_content": null,
            "align_items": null,
            "align_self": null,
            "border": null,
            "bottom": null,
            "display": null,
            "flex": null,
            "flex_flow": null,
            "grid_area": null,
            "grid_auto_columns": null,
            "grid_auto_flow": null,
            "grid_auto_rows": null,
            "grid_column": null,
            "grid_gap": null,
            "grid_row": null,
            "grid_template_areas": null,
            "grid_template_columns": null,
            "grid_template_rows": null,
            "height": null,
            "justify_content": null,
            "justify_items": null,
            "left": null,
            "margin": null,
            "max_height": null,
            "max_width": null,
            "min_height": null,
            "min_width": null,
            "object_fit": null,
            "object_position": null,
            "order": null,
            "overflow": null,
            "overflow_x": null,
            "overflow_y": null,
            "padding": null,
            "right": null,
            "top": null,
            "visibility": null,
            "width": null
          }
        },
        "2d58eb17e11843c398e59c774db358f8": {
          "model_module": "@jupyter-widgets/controls",
          "model_name": "ProgressStyleModel",
          "model_module_version": "1.5.0",
          "state": {
            "_model_module": "@jupyter-widgets/controls",
            "_model_module_version": "1.5.0",
            "_model_name": "ProgressStyleModel",
            "_view_count": null,
            "_view_module": "@jupyter-widgets/base",
            "_view_module_version": "1.2.0",
            "_view_name": "StyleView",
            "bar_color": null,
            "description_width": ""
          }
        },
        "2015a7e60b474ecfbf57c16cb3092e16": {
          "model_module": "@jupyter-widgets/base",
          "model_name": "LayoutModel",
          "model_module_version": "1.2.0",
          "state": {
            "_model_module": "@jupyter-widgets/base",
            "_model_module_version": "1.2.0",
            "_model_name": "LayoutModel",
            "_view_count": null,
            "_view_module": "@jupyter-widgets/base",
            "_view_module_version": "1.2.0",
            "_view_name": "LayoutView",
            "align_content": null,
            "align_items": null,
            "align_self": null,
            "border": null,
            "bottom": null,
            "display": null,
            "flex": null,
            "flex_flow": null,
            "grid_area": null,
            "grid_auto_columns": null,
            "grid_auto_flow": null,
            "grid_auto_rows": null,
            "grid_column": null,
            "grid_gap": null,
            "grid_row": null,
            "grid_template_areas": null,
            "grid_template_columns": null,
            "grid_template_rows": null,
            "height": null,
            "justify_content": null,
            "justify_items": null,
            "left": null,
            "margin": null,
            "max_height": null,
            "max_width": null,
            "min_height": null,
            "min_width": null,
            "object_fit": null,
            "object_position": null,
            "order": null,
            "overflow": null,
            "overflow_x": null,
            "overflow_y": null,
            "padding": null,
            "right": null,
            "top": null,
            "visibility": null,
            "width": null
          }
        },
        "c439743b0acb4a84b345bc7a5e10635b": {
          "model_module": "@jupyter-widgets/controls",
          "model_name": "DescriptionStyleModel",
          "model_module_version": "1.5.0",
          "state": {
            "_model_module": "@jupyter-widgets/controls",
            "_model_module_version": "1.5.0",
            "_model_name": "DescriptionStyleModel",
            "_view_count": null,
            "_view_module": "@jupyter-widgets/base",
            "_view_module_version": "1.2.0",
            "_view_name": "StyleView",
            "description_width": ""
          }
        },
        "c5c52409180f42b48359eaa01cfa0b2a": {
          "model_module": "@jupyter-widgets/controls",
          "model_name": "HBoxModel",
          "model_module_version": "1.5.0",
          "state": {
            "_dom_classes": [],
            "_model_module": "@jupyter-widgets/controls",
            "_model_module_version": "1.5.0",
            "_model_name": "HBoxModel",
            "_view_count": null,
            "_view_module": "@jupyter-widgets/controls",
            "_view_module_version": "1.5.0",
            "_view_name": "HBoxView",
            "box_style": "",
            "children": [
              "IPY_MODEL_8126ea44e28348c89997157239164101",
              "IPY_MODEL_53960010693b43db8ca81b787f7d78fb",
              "IPY_MODEL_3973d402737f4099a41b341456aad373"
            ],
            "layout": "IPY_MODEL_fb9bb8883e714963a38b0075669a08df"
          }
        },
        "8126ea44e28348c89997157239164101": {
          "model_module": "@jupyter-widgets/controls",
          "model_name": "HTMLModel",
          "model_module_version": "1.5.0",
          "state": {
            "_dom_classes": [],
            "_model_module": "@jupyter-widgets/controls",
            "_model_module_version": "1.5.0",
            "_model_name": "HTMLModel",
            "_view_count": null,
            "_view_module": "@jupyter-widgets/controls",
            "_view_module_version": "1.5.0",
            "_view_name": "HTMLView",
            "description": "",
            "description_tooltip": null,
            "layout": "IPY_MODEL_90e876789813451a875dcfc20a6aaf2a",
            "placeholder": "​",
            "style": "IPY_MODEL_0261f864e87f40b6b98b11c3ab61bd99",
            "value": "Downloading: 100%"
          }
        },
        "53960010693b43db8ca81b787f7d78fb": {
          "model_module": "@jupyter-widgets/controls",
          "model_name": "FloatProgressModel",
          "model_module_version": "1.5.0",
          "state": {
            "_dom_classes": [],
            "_model_module": "@jupyter-widgets/controls",
            "_model_module_version": "1.5.0",
            "_model_name": "FloatProgressModel",
            "_view_count": null,
            "_view_module": "@jupyter-widgets/controls",
            "_view_module_version": "1.5.0",
            "_view_name": "ProgressView",
            "bar_style": "success",
            "description": "",
            "description_tooltip": null,
            "layout": "IPY_MODEL_2de88cb0a7944dd8b2ed8b61f7b8b639",
            "max": 2279695208,
            "min": 0,
            "orientation": "horizontal",
            "style": "IPY_MODEL_c298f5624c5a4a0fb7717b4d8075e0df",
            "value": 2279695208
          }
        },
        "3973d402737f4099a41b341456aad373": {
          "model_module": "@jupyter-widgets/controls",
          "model_name": "HTMLModel",
          "model_module_version": "1.5.0",
          "state": {
            "_dom_classes": [],
            "_model_module": "@jupyter-widgets/controls",
            "_model_module_version": "1.5.0",
            "_model_name": "HTMLModel",
            "_view_count": null,
            "_view_module": "@jupyter-widgets/controls",
            "_view_module_version": "1.5.0",
            "_view_name": "HTMLView",
            "description": "",
            "description_tooltip": null,
            "layout": "IPY_MODEL_40b7b1199b04448392403b5e5bbd4981",
            "placeholder": "​",
            "style": "IPY_MODEL_0dd7aacdb7914280b00add009dc473a0",
            "value": " 2.12G/2.12G [00:52&lt;00:00, 40.6MB/s]"
          }
        },
        "fb9bb8883e714963a38b0075669a08df": {
          "model_module": "@jupyter-widgets/base",
          "model_name": "LayoutModel",
          "model_module_version": "1.2.0",
          "state": {
            "_model_module": "@jupyter-widgets/base",
            "_model_module_version": "1.2.0",
            "_model_name": "LayoutModel",
            "_view_count": null,
            "_view_module": "@jupyter-widgets/base",
            "_view_module_version": "1.2.0",
            "_view_name": "LayoutView",
            "align_content": null,
            "align_items": null,
            "align_self": null,
            "border": null,
            "bottom": null,
            "display": null,
            "flex": null,
            "flex_flow": null,
            "grid_area": null,
            "grid_auto_columns": null,
            "grid_auto_flow": null,
            "grid_auto_rows": null,
            "grid_column": null,
            "grid_gap": null,
            "grid_row": null,
            "grid_template_areas": null,
            "grid_template_columns": null,
            "grid_template_rows": null,
            "height": null,
            "justify_content": null,
            "justify_items": null,
            "left": null,
            "margin": null,
            "max_height": null,
            "max_width": null,
            "min_height": null,
            "min_width": null,
            "object_fit": null,
            "object_position": null,
            "order": null,
            "overflow": null,
            "overflow_x": null,
            "overflow_y": null,
            "padding": null,
            "right": null,
            "top": null,
            "visibility": null,
            "width": null
          }
        },
        "90e876789813451a875dcfc20a6aaf2a": {
          "model_module": "@jupyter-widgets/base",
          "model_name": "LayoutModel",
          "model_module_version": "1.2.0",
          "state": {
            "_model_module": "@jupyter-widgets/base",
            "_model_module_version": "1.2.0",
            "_model_name": "LayoutModel",
            "_view_count": null,
            "_view_module": "@jupyter-widgets/base",
            "_view_module_version": "1.2.0",
            "_view_name": "LayoutView",
            "align_content": null,
            "align_items": null,
            "align_self": null,
            "border": null,
            "bottom": null,
            "display": null,
            "flex": null,
            "flex_flow": null,
            "grid_area": null,
            "grid_auto_columns": null,
            "grid_auto_flow": null,
            "grid_auto_rows": null,
            "grid_column": null,
            "grid_gap": null,
            "grid_row": null,
            "grid_template_areas": null,
            "grid_template_columns": null,
            "grid_template_rows": null,
            "height": null,
            "justify_content": null,
            "justify_items": null,
            "left": null,
            "margin": null,
            "max_height": null,
            "max_width": null,
            "min_height": null,
            "min_width": null,
            "object_fit": null,
            "object_position": null,
            "order": null,
            "overflow": null,
            "overflow_x": null,
            "overflow_y": null,
            "padding": null,
            "right": null,
            "top": null,
            "visibility": null,
            "width": null
          }
        },
        "0261f864e87f40b6b98b11c3ab61bd99": {
          "model_module": "@jupyter-widgets/controls",
          "model_name": "DescriptionStyleModel",
          "model_module_version": "1.5.0",
          "state": {
            "_model_module": "@jupyter-widgets/controls",
            "_model_module_version": "1.5.0",
            "_model_name": "DescriptionStyleModel",
            "_view_count": null,
            "_view_module": "@jupyter-widgets/base",
            "_view_module_version": "1.2.0",
            "_view_name": "StyleView",
            "description_width": ""
          }
        },
        "2de88cb0a7944dd8b2ed8b61f7b8b639": {
          "model_module": "@jupyter-widgets/base",
          "model_name": "LayoutModel",
          "model_module_version": "1.2.0",
          "state": {
            "_model_module": "@jupyter-widgets/base",
            "_model_module_version": "1.2.0",
            "_model_name": "LayoutModel",
            "_view_count": null,
            "_view_module": "@jupyter-widgets/base",
            "_view_module_version": "1.2.0",
            "_view_name": "LayoutView",
            "align_content": null,
            "align_items": null,
            "align_self": null,
            "border": null,
            "bottom": null,
            "display": null,
            "flex": null,
            "flex_flow": null,
            "grid_area": null,
            "grid_auto_columns": null,
            "grid_auto_flow": null,
            "grid_auto_rows": null,
            "grid_column": null,
            "grid_gap": null,
            "grid_row": null,
            "grid_template_areas": null,
            "grid_template_columns": null,
            "grid_template_rows": null,
            "height": null,
            "justify_content": null,
            "justify_items": null,
            "left": null,
            "margin": null,
            "max_height": null,
            "max_width": null,
            "min_height": null,
            "min_width": null,
            "object_fit": null,
            "object_position": null,
            "order": null,
            "overflow": null,
            "overflow_x": null,
            "overflow_y": null,
            "padding": null,
            "right": null,
            "top": null,
            "visibility": null,
            "width": null
          }
        },
        "c298f5624c5a4a0fb7717b4d8075e0df": {
          "model_module": "@jupyter-widgets/controls",
          "model_name": "ProgressStyleModel",
          "model_module_version": "1.5.0",
          "state": {
            "_model_module": "@jupyter-widgets/controls",
            "_model_module_version": "1.5.0",
            "_model_name": "ProgressStyleModel",
            "_view_count": null,
            "_view_module": "@jupyter-widgets/base",
            "_view_module_version": "1.2.0",
            "_view_name": "StyleView",
            "bar_color": null,
            "description_width": ""
          }
        },
        "40b7b1199b04448392403b5e5bbd4981": {
          "model_module": "@jupyter-widgets/base",
          "model_name": "LayoutModel",
          "model_module_version": "1.2.0",
          "state": {
            "_model_module": "@jupyter-widgets/base",
            "_model_module_version": "1.2.0",
            "_model_name": "LayoutModel",
            "_view_count": null,
            "_view_module": "@jupyter-widgets/base",
            "_view_module_version": "1.2.0",
            "_view_name": "LayoutView",
            "align_content": null,
            "align_items": null,
            "align_self": null,
            "border": null,
            "bottom": null,
            "display": null,
            "flex": null,
            "flex_flow": null,
            "grid_area": null,
            "grid_auto_columns": null,
            "grid_auto_flow": null,
            "grid_auto_rows": null,
            "grid_column": null,
            "grid_gap": null,
            "grid_row": null,
            "grid_template_areas": null,
            "grid_template_columns": null,
            "grid_template_rows": null,
            "height": null,
            "justify_content": null,
            "justify_items": null,
            "left": null,
            "margin": null,
            "max_height": null,
            "max_width": null,
            "min_height": null,
            "min_width": null,
            "object_fit": null,
            "object_position": null,
            "order": null,
            "overflow": null,
            "overflow_x": null,
            "overflow_y": null,
            "padding": null,
            "right": null,
            "top": null,
            "visibility": null,
            "width": null
          }
        },
        "0dd7aacdb7914280b00add009dc473a0": {
          "model_module": "@jupyter-widgets/controls",
          "model_name": "DescriptionStyleModel",
          "model_module_version": "1.5.0",
          "state": {
            "_model_module": "@jupyter-widgets/controls",
            "_model_module_version": "1.5.0",
            "_model_name": "DescriptionStyleModel",
            "_view_count": null,
            "_view_module": "@jupyter-widgets/base",
            "_view_module_version": "1.2.0",
            "_view_name": "StyleView",
            "description_width": ""
          }
        },
        "431d37f61cb64498aca1c65d1c073ebe": {
          "model_module": "@jupyter-widgets/controls",
          "model_name": "HBoxModel",
          "model_module_version": "1.5.0",
          "state": {
            "_dom_classes": [],
            "_model_module": "@jupyter-widgets/controls",
            "_model_module_version": "1.5.0",
            "_model_name": "HBoxModel",
            "_view_count": null,
            "_view_module": "@jupyter-widgets/controls",
            "_view_module_version": "1.5.0",
            "_view_name": "HBoxView",
            "box_style": "",
            "children": [
              "IPY_MODEL_5d0b7f6048634e63969377d9e8dfc9ba",
              "IPY_MODEL_5c0b0f66291a4e42829ee1bce5c5e9aa",
              "IPY_MODEL_a4d3b9ffc1834f0cac92c995b43e798d"
            ],
            "layout": "IPY_MODEL_dafaac2b87c04913b8e3f8407ec74d3a"
          }
        },
        "5d0b7f6048634e63969377d9e8dfc9ba": {
          "model_module": "@jupyter-widgets/controls",
          "model_name": "HTMLModel",
          "model_module_version": "1.5.0",
          "state": {
            "_dom_classes": [],
            "_model_module": "@jupyter-widgets/controls",
            "_model_module_version": "1.5.0",
            "_model_name": "HTMLModel",
            "_view_count": null,
            "_view_module": "@jupyter-widgets/controls",
            "_view_module_version": "1.5.0",
            "_view_name": "HTMLView",
            "description": "",
            "description_tooltip": null,
            "layout": "IPY_MODEL_a0bec13d72f44e86a2bc53d787aa0699",
            "placeholder": "​",
            "style": "IPY_MODEL_b11441f125ce4a238aa85ed76117398d",
            "value": "Downloading: 100%"
          }
        },
        "5c0b0f66291a4e42829ee1bce5c5e9aa": {
          "model_module": "@jupyter-widgets/controls",
          "model_name": "FloatProgressModel",
          "model_module_version": "1.5.0",
          "state": {
            "_dom_classes": [],
            "_model_module": "@jupyter-widgets/controls",
            "_model_module_version": "1.5.0",
            "_model_name": "FloatProgressModel",
            "_view_count": null,
            "_view_module": "@jupyter-widgets/controls",
            "_view_module_version": "1.5.0",
            "_view_name": "ProgressView",
            "bar_style": "success",
            "description": "",
            "description_tooltip": null,
            "layout": "IPY_MODEL_d9c566a0678942c3b0d8b26f391c42bc",
            "max": 1912529,
            "min": 0,
            "orientation": "horizontal",
            "style": "IPY_MODEL_ba506654c10c4cff828cf3ff656baae6",
            "value": 1912529
          }
        },
        "a4d3b9ffc1834f0cac92c995b43e798d": {
          "model_module": "@jupyter-widgets/controls",
          "model_name": "HTMLModel",
          "model_module_version": "1.5.0",
          "state": {
            "_dom_classes": [],
            "_model_module": "@jupyter-widgets/controls",
            "_model_module_version": "1.5.0",
            "_model_name": "HTMLModel",
            "_view_count": null,
            "_view_module": "@jupyter-widgets/controls",
            "_view_module_version": "1.5.0",
            "_view_name": "HTMLView",
            "description": "",
            "description_tooltip": null,
            "layout": "IPY_MODEL_515c513a097241f99610a2bf2f44867b",
            "placeholder": "​",
            "style": "IPY_MODEL_064a41db94b449bd8af64a3183d30bd5",
            "value": " 1.82M/1.82M [00:00&lt;00:00, 16.3MB/s]"
          }
        },
        "dafaac2b87c04913b8e3f8407ec74d3a": {
          "model_module": "@jupyter-widgets/base",
          "model_name": "LayoutModel",
          "model_module_version": "1.2.0",
          "state": {
            "_model_module": "@jupyter-widgets/base",
            "_model_module_version": "1.2.0",
            "_model_name": "LayoutModel",
            "_view_count": null,
            "_view_module": "@jupyter-widgets/base",
            "_view_module_version": "1.2.0",
            "_view_name": "LayoutView",
            "align_content": null,
            "align_items": null,
            "align_self": null,
            "border": null,
            "bottom": null,
            "display": null,
            "flex": null,
            "flex_flow": null,
            "grid_area": null,
            "grid_auto_columns": null,
            "grid_auto_flow": null,
            "grid_auto_rows": null,
            "grid_column": null,
            "grid_gap": null,
            "grid_row": null,
            "grid_template_areas": null,
            "grid_template_columns": null,
            "grid_template_rows": null,
            "height": null,
            "justify_content": null,
            "justify_items": null,
            "left": null,
            "margin": null,
            "max_height": null,
            "max_width": null,
            "min_height": null,
            "min_width": null,
            "object_fit": null,
            "object_position": null,
            "order": null,
            "overflow": null,
            "overflow_x": null,
            "overflow_y": null,
            "padding": null,
            "right": null,
            "top": null,
            "visibility": null,
            "width": null
          }
        },
        "a0bec13d72f44e86a2bc53d787aa0699": {
          "model_module": "@jupyter-widgets/base",
          "model_name": "LayoutModel",
          "model_module_version": "1.2.0",
          "state": {
            "_model_module": "@jupyter-widgets/base",
            "_model_module_version": "1.2.0",
            "_model_name": "LayoutModel",
            "_view_count": null,
            "_view_module": "@jupyter-widgets/base",
            "_view_module_version": "1.2.0",
            "_view_name": "LayoutView",
            "align_content": null,
            "align_items": null,
            "align_self": null,
            "border": null,
            "bottom": null,
            "display": null,
            "flex": null,
            "flex_flow": null,
            "grid_area": null,
            "grid_auto_columns": null,
            "grid_auto_flow": null,
            "grid_auto_rows": null,
            "grid_column": null,
            "grid_gap": null,
            "grid_row": null,
            "grid_template_areas": null,
            "grid_template_columns": null,
            "grid_template_rows": null,
            "height": null,
            "justify_content": null,
            "justify_items": null,
            "left": null,
            "margin": null,
            "max_height": null,
            "max_width": null,
            "min_height": null,
            "min_width": null,
            "object_fit": null,
            "object_position": null,
            "order": null,
            "overflow": null,
            "overflow_x": null,
            "overflow_y": null,
            "padding": null,
            "right": null,
            "top": null,
            "visibility": null,
            "width": null
          }
        },
        "b11441f125ce4a238aa85ed76117398d": {
          "model_module": "@jupyter-widgets/controls",
          "model_name": "DescriptionStyleModel",
          "model_module_version": "1.5.0",
          "state": {
            "_model_module": "@jupyter-widgets/controls",
            "_model_module_version": "1.5.0",
            "_model_name": "DescriptionStyleModel",
            "_view_count": null,
            "_view_module": "@jupyter-widgets/base",
            "_view_module_version": "1.2.0",
            "_view_name": "StyleView",
            "description_width": ""
          }
        },
        "d9c566a0678942c3b0d8b26f391c42bc": {
          "model_module": "@jupyter-widgets/base",
          "model_name": "LayoutModel",
          "model_module_version": "1.2.0",
          "state": {
            "_model_module": "@jupyter-widgets/base",
            "_model_module_version": "1.2.0",
            "_model_name": "LayoutModel",
            "_view_count": null,
            "_view_module": "@jupyter-widgets/base",
            "_view_module_version": "1.2.0",
            "_view_name": "LayoutView",
            "align_content": null,
            "align_items": null,
            "align_self": null,
            "border": null,
            "bottom": null,
            "display": null,
            "flex": null,
            "flex_flow": null,
            "grid_area": null,
            "grid_auto_columns": null,
            "grid_auto_flow": null,
            "grid_auto_rows": null,
            "grid_column": null,
            "grid_gap": null,
            "grid_row": null,
            "grid_template_areas": null,
            "grid_template_columns": null,
            "grid_template_rows": null,
            "height": null,
            "justify_content": null,
            "justify_items": null,
            "left": null,
            "margin": null,
            "max_height": null,
            "max_width": null,
            "min_height": null,
            "min_width": null,
            "object_fit": null,
            "object_position": null,
            "order": null,
            "overflow": null,
            "overflow_x": null,
            "overflow_y": null,
            "padding": null,
            "right": null,
            "top": null,
            "visibility": null,
            "width": null
          }
        },
        "ba506654c10c4cff828cf3ff656baae6": {
          "model_module": "@jupyter-widgets/controls",
          "model_name": "ProgressStyleModel",
          "model_module_version": "1.5.0",
          "state": {
            "_model_module": "@jupyter-widgets/controls",
            "_model_module_version": "1.5.0",
            "_model_name": "ProgressStyleModel",
            "_view_count": null,
            "_view_module": "@jupyter-widgets/base",
            "_view_module_version": "1.2.0",
            "_view_name": "StyleView",
            "bar_color": null,
            "description_width": ""
          }
        },
        "515c513a097241f99610a2bf2f44867b": {
          "model_module": "@jupyter-widgets/base",
          "model_name": "LayoutModel",
          "model_module_version": "1.2.0",
          "state": {
            "_model_module": "@jupyter-widgets/base",
            "_model_module_version": "1.2.0",
            "_model_name": "LayoutModel",
            "_view_count": null,
            "_view_module": "@jupyter-widgets/base",
            "_view_module_version": "1.2.0",
            "_view_name": "LayoutView",
            "align_content": null,
            "align_items": null,
            "align_self": null,
            "border": null,
            "bottom": null,
            "display": null,
            "flex": null,
            "flex_flow": null,
            "grid_area": null,
            "grid_auto_columns": null,
            "grid_auto_flow": null,
            "grid_auto_rows": null,
            "grid_column": null,
            "grid_gap": null,
            "grid_row": null,
            "grid_template_areas": null,
            "grid_template_columns": null,
            "grid_template_rows": null,
            "height": null,
            "justify_content": null,
            "justify_items": null,
            "left": null,
            "margin": null,
            "max_height": null,
            "max_width": null,
            "min_height": null,
            "min_width": null,
            "object_fit": null,
            "object_position": null,
            "order": null,
            "overflow": null,
            "overflow_x": null,
            "overflow_y": null,
            "padding": null,
            "right": null,
            "top": null,
            "visibility": null,
            "width": null
          }
        },
        "064a41db94b449bd8af64a3183d30bd5": {
          "model_module": "@jupyter-widgets/controls",
          "model_name": "DescriptionStyleModel",
          "model_module_version": "1.5.0",
          "state": {
            "_model_module": "@jupyter-widgets/controls",
            "_model_module_version": "1.5.0",
            "_model_name": "DescriptionStyleModel",
            "_view_count": null,
            "_view_module": "@jupyter-widgets/base",
            "_view_module_version": "1.2.0",
            "_view_name": "StyleView",
            "description_width": ""
          }
        },
        "2ff1d234e432424493d58360d790e42f": {
          "model_module": "@jupyter-widgets/controls",
          "model_name": "HBoxModel",
          "model_module_version": "1.5.0",
          "state": {
            "_dom_classes": [],
            "_model_module": "@jupyter-widgets/controls",
            "_model_module_version": "1.5.0",
            "_model_name": "HBoxModel",
            "_view_count": null,
            "_view_module": "@jupyter-widgets/controls",
            "_view_module_version": "1.5.0",
            "_view_name": "HBoxView",
            "box_style": "",
            "children": [
              "IPY_MODEL_3643b2077c444a67ac8432cb0c715889",
              "IPY_MODEL_3dcc65b7ae6a473192ae068e3306042a",
              "IPY_MODEL_88864c42229d43378547b44f59b337d4"
            ],
            "layout": "IPY_MODEL_ec50bc7d92b640109546281b4c6f34be"
          }
        },
        "3643b2077c444a67ac8432cb0c715889": {
          "model_module": "@jupyter-widgets/controls",
          "model_name": "HTMLModel",
          "model_module_version": "1.5.0",
          "state": {
            "_dom_classes": [],
            "_model_module": "@jupyter-widgets/controls",
            "_model_module_version": "1.5.0",
            "_model_name": "HTMLModel",
            "_view_count": null,
            "_view_module": "@jupyter-widgets/controls",
            "_view_module_version": "1.5.0",
            "_view_name": "HTMLView",
            "description": "",
            "description_tooltip": null,
            "layout": "IPY_MODEL_e360beb22a94423eacf26efb9f63586b",
            "placeholder": "​",
            "style": "IPY_MODEL_4679487cb63d485fbb89246d58c64bd9",
            "value": "Downloading: 100%"
          }
        },
        "3dcc65b7ae6a473192ae068e3306042a": {
          "model_module": "@jupyter-widgets/controls",
          "model_name": "FloatProgressModel",
          "model_module_version": "1.5.0",
          "state": {
            "_dom_classes": [],
            "_model_module": "@jupyter-widgets/controls",
            "_model_module_version": "1.5.0",
            "_model_name": "FloatProgressModel",
            "_view_count": null,
            "_view_module": "@jupyter-widgets/controls",
            "_view_module_version": "1.5.0",
            "_view_name": "ProgressView",
            "bar_style": "success",
            "description": "",
            "description_tooltip": null,
            "layout": "IPY_MODEL_052094ab64b844f3b7faab9f76323224",
            "max": 65,
            "min": 0,
            "orientation": "horizontal",
            "style": "IPY_MODEL_8a8ce48ed6a54490b6fd25a9a160d5bc",
            "value": 65
          }
        },
        "88864c42229d43378547b44f59b337d4": {
          "model_module": "@jupyter-widgets/controls",
          "model_name": "HTMLModel",
          "model_module_version": "1.5.0",
          "state": {
            "_dom_classes": [],
            "_model_module": "@jupyter-widgets/controls",
            "_model_module_version": "1.5.0",
            "_model_name": "HTMLModel",
            "_view_count": null,
            "_view_module": "@jupyter-widgets/controls",
            "_view_module_version": "1.5.0",
            "_view_name": "HTMLView",
            "description": "",
            "description_tooltip": null,
            "layout": "IPY_MODEL_f05435b28de34186b28b7c49f36662dc",
            "placeholder": "​",
            "style": "IPY_MODEL_72a3da537f6e4566bbe8a3fad9bfbb14",
            "value": " 65.0/65.0 [00:00&lt;00:00, 1.62kB/s]"
          }
        },
        "ec50bc7d92b640109546281b4c6f34be": {
          "model_module": "@jupyter-widgets/base",
          "model_name": "LayoutModel",
          "model_module_version": "1.2.0",
          "state": {
            "_model_module": "@jupyter-widgets/base",
            "_model_module_version": "1.2.0",
            "_model_name": "LayoutModel",
            "_view_count": null,
            "_view_module": "@jupyter-widgets/base",
            "_view_module_version": "1.2.0",
            "_view_name": "LayoutView",
            "align_content": null,
            "align_items": null,
            "align_self": null,
            "border": null,
            "bottom": null,
            "display": null,
            "flex": null,
            "flex_flow": null,
            "grid_area": null,
            "grid_auto_columns": null,
            "grid_auto_flow": null,
            "grid_auto_rows": null,
            "grid_column": null,
            "grid_gap": null,
            "grid_row": null,
            "grid_template_areas": null,
            "grid_template_columns": null,
            "grid_template_rows": null,
            "height": null,
            "justify_content": null,
            "justify_items": null,
            "left": null,
            "margin": null,
            "max_height": null,
            "max_width": null,
            "min_height": null,
            "min_width": null,
            "object_fit": null,
            "object_position": null,
            "order": null,
            "overflow": null,
            "overflow_x": null,
            "overflow_y": null,
            "padding": null,
            "right": null,
            "top": null,
            "visibility": null,
            "width": null
          }
        },
        "e360beb22a94423eacf26efb9f63586b": {
          "model_module": "@jupyter-widgets/base",
          "model_name": "LayoutModel",
          "model_module_version": "1.2.0",
          "state": {
            "_model_module": "@jupyter-widgets/base",
            "_model_module_version": "1.2.0",
            "_model_name": "LayoutModel",
            "_view_count": null,
            "_view_module": "@jupyter-widgets/base",
            "_view_module_version": "1.2.0",
            "_view_name": "LayoutView",
            "align_content": null,
            "align_items": null,
            "align_self": null,
            "border": null,
            "bottom": null,
            "display": null,
            "flex": null,
            "flex_flow": null,
            "grid_area": null,
            "grid_auto_columns": null,
            "grid_auto_flow": null,
            "grid_auto_rows": null,
            "grid_column": null,
            "grid_gap": null,
            "grid_row": null,
            "grid_template_areas": null,
            "grid_template_columns": null,
            "grid_template_rows": null,
            "height": null,
            "justify_content": null,
            "justify_items": null,
            "left": null,
            "margin": null,
            "max_height": null,
            "max_width": null,
            "min_height": null,
            "min_width": null,
            "object_fit": null,
            "object_position": null,
            "order": null,
            "overflow": null,
            "overflow_x": null,
            "overflow_y": null,
            "padding": null,
            "right": null,
            "top": null,
            "visibility": null,
            "width": null
          }
        },
        "4679487cb63d485fbb89246d58c64bd9": {
          "model_module": "@jupyter-widgets/controls",
          "model_name": "DescriptionStyleModel",
          "model_module_version": "1.5.0",
          "state": {
            "_model_module": "@jupyter-widgets/controls",
            "_model_module_version": "1.5.0",
            "_model_name": "DescriptionStyleModel",
            "_view_count": null,
            "_view_module": "@jupyter-widgets/base",
            "_view_module_version": "1.2.0",
            "_view_name": "StyleView",
            "description_width": ""
          }
        },
        "052094ab64b844f3b7faab9f76323224": {
          "model_module": "@jupyter-widgets/base",
          "model_name": "LayoutModel",
          "model_module_version": "1.2.0",
          "state": {
            "_model_module": "@jupyter-widgets/base",
            "_model_module_version": "1.2.0",
            "_model_name": "LayoutModel",
            "_view_count": null,
            "_view_module": "@jupyter-widgets/base",
            "_view_module_version": "1.2.0",
            "_view_name": "LayoutView",
            "align_content": null,
            "align_items": null,
            "align_self": null,
            "border": null,
            "bottom": null,
            "display": null,
            "flex": null,
            "flex_flow": null,
            "grid_area": null,
            "grid_auto_columns": null,
            "grid_auto_flow": null,
            "grid_auto_rows": null,
            "grid_column": null,
            "grid_gap": null,
            "grid_row": null,
            "grid_template_areas": null,
            "grid_template_columns": null,
            "grid_template_rows": null,
            "height": null,
            "justify_content": null,
            "justify_items": null,
            "left": null,
            "margin": null,
            "max_height": null,
            "max_width": null,
            "min_height": null,
            "min_width": null,
            "object_fit": null,
            "object_position": null,
            "order": null,
            "overflow": null,
            "overflow_x": null,
            "overflow_y": null,
            "padding": null,
            "right": null,
            "top": null,
            "visibility": null,
            "width": null
          }
        },
        "8a8ce48ed6a54490b6fd25a9a160d5bc": {
          "model_module": "@jupyter-widgets/controls",
          "model_name": "ProgressStyleModel",
          "model_module_version": "1.5.0",
          "state": {
            "_model_module": "@jupyter-widgets/controls",
            "_model_module_version": "1.5.0",
            "_model_name": "ProgressStyleModel",
            "_view_count": null,
            "_view_module": "@jupyter-widgets/base",
            "_view_module_version": "1.2.0",
            "_view_name": "StyleView",
            "bar_color": null,
            "description_width": ""
          }
        },
        "f05435b28de34186b28b7c49f36662dc": {
          "model_module": "@jupyter-widgets/base",
          "model_name": "LayoutModel",
          "model_module_version": "1.2.0",
          "state": {
            "_model_module": "@jupyter-widgets/base",
            "_model_module_version": "1.2.0",
            "_model_name": "LayoutModel",
            "_view_count": null,
            "_view_module": "@jupyter-widgets/base",
            "_view_module_version": "1.2.0",
            "_view_name": "LayoutView",
            "align_content": null,
            "align_items": null,
            "align_self": null,
            "border": null,
            "bottom": null,
            "display": null,
            "flex": null,
            "flex_flow": null,
            "grid_area": null,
            "grid_auto_columns": null,
            "grid_auto_flow": null,
            "grid_auto_rows": null,
            "grid_column": null,
            "grid_gap": null,
            "grid_row": null,
            "grid_template_areas": null,
            "grid_template_columns": null,
            "grid_template_rows": null,
            "height": null,
            "justify_content": null,
            "justify_items": null,
            "left": null,
            "margin": null,
            "max_height": null,
            "max_width": null,
            "min_height": null,
            "min_width": null,
            "object_fit": null,
            "object_position": null,
            "order": null,
            "overflow": null,
            "overflow_x": null,
            "overflow_y": null,
            "padding": null,
            "right": null,
            "top": null,
            "visibility": null,
            "width": null
          }
        },
        "72a3da537f6e4566bbe8a3fad9bfbb14": {
          "model_module": "@jupyter-widgets/controls",
          "model_name": "DescriptionStyleModel",
          "model_module_version": "1.5.0",
          "state": {
            "_model_module": "@jupyter-widgets/controls",
            "_model_module_version": "1.5.0",
            "_model_name": "DescriptionStyleModel",
            "_view_count": null,
            "_view_module": "@jupyter-widgets/base",
            "_view_module_version": "1.2.0",
            "_view_name": "StyleView",
            "description_width": ""
          }
        },
        "b1ab22ffee2e49aaba6c0955029fe4bf": {
          "model_module": "@jupyter-widgets/controls",
          "model_name": "HBoxModel",
          "model_module_version": "1.5.0",
          "state": {
            "_dom_classes": [],
            "_model_module": "@jupyter-widgets/controls",
            "_model_module_version": "1.5.0",
            "_model_name": "HBoxModel",
            "_view_count": null,
            "_view_module": "@jupyter-widgets/controls",
            "_view_module_version": "1.5.0",
            "_view_name": "HBoxView",
            "box_style": "",
            "children": [
              "IPY_MODEL_f08913bf53d5416d9a461c6ac3f6d962",
              "IPY_MODEL_515185d3ce224d389c39f1659f2e2cde",
              "IPY_MODEL_b7b1996410eb40c78c2f718eec07de3b"
            ],
            "layout": "IPY_MODEL_ae05f9286b344fb5a2f8915062e81f72"
          }
        },
        "f08913bf53d5416d9a461c6ac3f6d962": {
          "model_module": "@jupyter-widgets/controls",
          "model_name": "HTMLModel",
          "model_module_version": "1.5.0",
          "state": {
            "_dom_classes": [],
            "_model_module": "@jupyter-widgets/controls",
            "_model_module_version": "1.5.0",
            "_model_name": "HTMLModel",
            "_view_count": null,
            "_view_module": "@jupyter-widgets/controls",
            "_view_module_version": "1.5.0",
            "_view_name": "HTMLView",
            "description": "",
            "description_tooltip": null,
            "layout": "IPY_MODEL_5f6deb1a69aa4345b1d034922822dde2",
            "placeholder": "​",
            "style": "IPY_MODEL_11fdaee5c62a4ac7ad3f30f37257bf31",
            "value": "Downloading: 100%"
          }
        },
        "515185d3ce224d389c39f1659f2e2cde": {
          "model_module": "@jupyter-widgets/controls",
          "model_name": "FloatProgressModel",
          "model_module_version": "1.5.0",
          "state": {
            "_dom_classes": [],
            "_model_module": "@jupyter-widgets/controls",
            "_model_module_version": "1.5.0",
            "_model_name": "FloatProgressModel",
            "_view_count": null,
            "_view_module": "@jupyter-widgets/controls",
            "_view_module_version": "1.5.0",
            "_view_name": "ProgressView",
            "bar_style": "success",
            "description": "",
            "description_tooltip": null,
            "layout": "IPY_MODEL_b43a14372b8f4b2c9eaf4f0e8dffb477",
            "max": 87,
            "min": 0,
            "orientation": "horizontal",
            "style": "IPY_MODEL_c08edec9602045af911b627df516c9f6",
            "value": 87
          }
        },
        "b7b1996410eb40c78c2f718eec07de3b": {
          "model_module": "@jupyter-widgets/controls",
          "model_name": "HTMLModel",
          "model_module_version": "1.5.0",
          "state": {
            "_dom_classes": [],
            "_model_module": "@jupyter-widgets/controls",
            "_model_module_version": "1.5.0",
            "_model_name": "HTMLModel",
            "_view_count": null,
            "_view_module": "@jupyter-widgets/controls",
            "_view_module_version": "1.5.0",
            "_view_name": "HTMLView",
            "description": "",
            "description_tooltip": null,
            "layout": "IPY_MODEL_165b514ecc8d4fe39303c85249d19656",
            "placeholder": "​",
            "style": "IPY_MODEL_0977aaa6f47d4864bee1114da6e3a29c",
            "value": " 87.0/87.0 [00:00&lt;00:00, 1.61kB/s]"
          }
        },
        "ae05f9286b344fb5a2f8915062e81f72": {
          "model_module": "@jupyter-widgets/base",
          "model_name": "LayoutModel",
          "model_module_version": "1.2.0",
          "state": {
            "_model_module": "@jupyter-widgets/base",
            "_model_module_version": "1.2.0",
            "_model_name": "LayoutModel",
            "_view_count": null,
            "_view_module": "@jupyter-widgets/base",
            "_view_module_version": "1.2.0",
            "_view_name": "LayoutView",
            "align_content": null,
            "align_items": null,
            "align_self": null,
            "border": null,
            "bottom": null,
            "display": null,
            "flex": null,
            "flex_flow": null,
            "grid_area": null,
            "grid_auto_columns": null,
            "grid_auto_flow": null,
            "grid_auto_rows": null,
            "grid_column": null,
            "grid_gap": null,
            "grid_row": null,
            "grid_template_areas": null,
            "grid_template_columns": null,
            "grid_template_rows": null,
            "height": null,
            "justify_content": null,
            "justify_items": null,
            "left": null,
            "margin": null,
            "max_height": null,
            "max_width": null,
            "min_height": null,
            "min_width": null,
            "object_fit": null,
            "object_position": null,
            "order": null,
            "overflow": null,
            "overflow_x": null,
            "overflow_y": null,
            "padding": null,
            "right": null,
            "top": null,
            "visibility": null,
            "width": null
          }
        },
        "5f6deb1a69aa4345b1d034922822dde2": {
          "model_module": "@jupyter-widgets/base",
          "model_name": "LayoutModel",
          "model_module_version": "1.2.0",
          "state": {
            "_model_module": "@jupyter-widgets/base",
            "_model_module_version": "1.2.0",
            "_model_name": "LayoutModel",
            "_view_count": null,
            "_view_module": "@jupyter-widgets/base",
            "_view_module_version": "1.2.0",
            "_view_name": "LayoutView",
            "align_content": null,
            "align_items": null,
            "align_self": null,
            "border": null,
            "bottom": null,
            "display": null,
            "flex": null,
            "flex_flow": null,
            "grid_area": null,
            "grid_auto_columns": null,
            "grid_auto_flow": null,
            "grid_auto_rows": null,
            "grid_column": null,
            "grid_gap": null,
            "grid_row": null,
            "grid_template_areas": null,
            "grid_template_columns": null,
            "grid_template_rows": null,
            "height": null,
            "justify_content": null,
            "justify_items": null,
            "left": null,
            "margin": null,
            "max_height": null,
            "max_width": null,
            "min_height": null,
            "min_width": null,
            "object_fit": null,
            "object_position": null,
            "order": null,
            "overflow": null,
            "overflow_x": null,
            "overflow_y": null,
            "padding": null,
            "right": null,
            "top": null,
            "visibility": null,
            "width": null
          }
        },
        "11fdaee5c62a4ac7ad3f30f37257bf31": {
          "model_module": "@jupyter-widgets/controls",
          "model_name": "DescriptionStyleModel",
          "model_module_version": "1.5.0",
          "state": {
            "_model_module": "@jupyter-widgets/controls",
            "_model_module_version": "1.5.0",
            "_model_name": "DescriptionStyleModel",
            "_view_count": null,
            "_view_module": "@jupyter-widgets/base",
            "_view_module_version": "1.2.0",
            "_view_name": "StyleView",
            "description_width": ""
          }
        },
        "b43a14372b8f4b2c9eaf4f0e8dffb477": {
          "model_module": "@jupyter-widgets/base",
          "model_name": "LayoutModel",
          "model_module_version": "1.2.0",
          "state": {
            "_model_module": "@jupyter-widgets/base",
            "_model_module_version": "1.2.0",
            "_model_name": "LayoutModel",
            "_view_count": null,
            "_view_module": "@jupyter-widgets/base",
            "_view_module_version": "1.2.0",
            "_view_name": "LayoutView",
            "align_content": null,
            "align_items": null,
            "align_self": null,
            "border": null,
            "bottom": null,
            "display": null,
            "flex": null,
            "flex_flow": null,
            "grid_area": null,
            "grid_auto_columns": null,
            "grid_auto_flow": null,
            "grid_auto_rows": null,
            "grid_column": null,
            "grid_gap": null,
            "grid_row": null,
            "grid_template_areas": null,
            "grid_template_columns": null,
            "grid_template_rows": null,
            "height": null,
            "justify_content": null,
            "justify_items": null,
            "left": null,
            "margin": null,
            "max_height": null,
            "max_width": null,
            "min_height": null,
            "min_width": null,
            "object_fit": null,
            "object_position": null,
            "order": null,
            "overflow": null,
            "overflow_x": null,
            "overflow_y": null,
            "padding": null,
            "right": null,
            "top": null,
            "visibility": null,
            "width": null
          }
        },
        "c08edec9602045af911b627df516c9f6": {
          "model_module": "@jupyter-widgets/controls",
          "model_name": "ProgressStyleModel",
          "model_module_version": "1.5.0",
          "state": {
            "_model_module": "@jupyter-widgets/controls",
            "_model_module_version": "1.5.0",
            "_model_name": "ProgressStyleModel",
            "_view_count": null,
            "_view_module": "@jupyter-widgets/base",
            "_view_module_version": "1.2.0",
            "_view_name": "StyleView",
            "bar_color": null,
            "description_width": ""
          }
        },
        "165b514ecc8d4fe39303c85249d19656": {
          "model_module": "@jupyter-widgets/base",
          "model_name": "LayoutModel",
          "model_module_version": "1.2.0",
          "state": {
            "_model_module": "@jupyter-widgets/base",
            "_model_module_version": "1.2.0",
            "_model_name": "LayoutModel",
            "_view_count": null,
            "_view_module": "@jupyter-widgets/base",
            "_view_module_version": "1.2.0",
            "_view_name": "LayoutView",
            "align_content": null,
            "align_items": null,
            "align_self": null,
            "border": null,
            "bottom": null,
            "display": null,
            "flex": null,
            "flex_flow": null,
            "grid_area": null,
            "grid_auto_columns": null,
            "grid_auto_flow": null,
            "grid_auto_rows": null,
            "grid_column": null,
            "grid_gap": null,
            "grid_row": null,
            "grid_template_areas": null,
            "grid_template_columns": null,
            "grid_template_rows": null,
            "height": null,
            "justify_content": null,
            "justify_items": null,
            "left": null,
            "margin": null,
            "max_height": null,
            "max_width": null,
            "min_height": null,
            "min_width": null,
            "object_fit": null,
            "object_position": null,
            "order": null,
            "overflow": null,
            "overflow_x": null,
            "overflow_y": null,
            "padding": null,
            "right": null,
            "top": null,
            "visibility": null,
            "width": null
          }
        },
        "0977aaa6f47d4864bee1114da6e3a29c": {
          "model_module": "@jupyter-widgets/controls",
          "model_name": "DescriptionStyleModel",
          "model_module_version": "1.5.0",
          "state": {
            "_model_module": "@jupyter-widgets/controls",
            "_model_module_version": "1.5.0",
            "_model_name": "DescriptionStyleModel",
            "_view_count": null,
            "_view_module": "@jupyter-widgets/base",
            "_view_module_version": "1.2.0",
            "_view_name": "StyleView",
            "description_width": ""
          }
        }
      }
    }
  },
  "cells": [
    {
      "cell_type": "markdown",
      "source": [
        "# **IMPORT DATA**"
      ],
      "metadata": {
        "id": "cJBWDE-j09cB"
      }
    },
    {
      "cell_type": "code",
      "execution_count": 389,
      "metadata": {
        "colab": {
          "base_uri": "https://localhost:8080/",
          "height": 132
        },
        "id": "oWHzRc3Tj2y1",
        "outputId": "55ffa68b-6429-486d-96c8-1f8dbd14d407"
      },
      "outputs": [
        {
          "output_type": "execute_result",
          "data": {
            "text/plain": [
              "\"Job Description As a Junior Data Scientist at IBM, you will work as part of a team to solve business-related problems using data-driven techniques. You will apply the scientific method to business scenarios, clean and prepare data for statistical and machine learning modeling, work with a variety of analytical algorithms to build models that better explain data relationships and predict potential scenarios, translate data insights into business value, and communicate results to difference audiences. You will also master different technologies for model deployment. Throughout your apprenticeship, you’ll work closely with other experienced data scientists and mentors in an interactive, collaborative environment. You’ll learn the fundamentals of probability, statistics, linear algebra, data preparation, data modeling, and deployment of machine learning models. In addition, you will be introduced to additional concepts, skills and tools including Python, Hadoop, and Spark, presentation skills, communication skills, and you will apply these skills to prepare for and successfully obtain data science experience that may lead to certification as a Junior Data Scientist. IBM Certification as a Junior Data Scientist provides the credentials and career milestone that is earned through demonstrated usage of Data Science tools and methodology through case studies, business references and technical references. Our apprenticeship program will give you the opportunity to build your skills to grow your career as a Junior Data Scientist. What is an Apprenticeship? IBM Apprenticeship Program is an official registered apprenticeship recognized by the Department of Labor (DOL). Every graduate of a Registered Apprenticeship program receives a nationally-recognized credential from the DOL. During the apprenticeship duration, you will be required to complete specific learning hours and on the job training that has been outlined to ensure you are developing the skills and competencies essential to the role. You will be able to learn and grow at your own pace, but we expect most apprentices will complete their learning within 24 months. Once you graduate and receive your certificate from our apprentice program, you will be eligible to apply to available full-time roles at IBM. Who you are An apprenticeship is about learning. We’re seeking candidates who have the following requirements, but we know you’re just getting your career started, and we’re committed to helping you learn and grow. If you are a highly curious individual, with a passion for learning, and a love of mathematics and data, you’re exactly the type of candidate we’re looking for. Data scientists are inquisitive: exploring, asking questions, doing what if analysis, questioning existing assumptions and processes. They are analytically-minded, statistically and mathematically driven. To be successful, you need: Drive and eagerness to learn Strong problem solving, critical thinking, organization, and communication skills Ability to work independently and take initiative, as well as work collaboratively and contribute in a team environment as data science is a team sport Ability to think analytically in solving problems What’s the experience? As an apprentice, you'll join with other apprentices in a local cohort. You'll go through the program together, learning about IBM and the skills you'll be attaining throughout your apprenticeship. Then, you'll work with your managers and mentors to progress through your personal skills roadmap, learning and demonstrating new knowledge and competencies through hands-on application with your project teams. You'll complete milestones along the way, earning digital credentials to validate your skills, and will come back together with other apprentices to participate in on-going training and development focused on your professional and technical skills. Best of all, you are a contributing member of your team, putting forward ideas, taking on responsibilities and making choices about how you get the job done just like any other IBMer. ncappx TRAVEL OF 25% IS REQUIRED Required Technical and Professional Expertise Requirements: Willingness to complete the requirements of the apprenticeship program High School Diploma or GED Curiosity, Passion for learning, Love for math, data, and analysis Some knowledge or experience in ONE or more of the following: Java, JavaScript, PHP, C, Objective-C, C/C++, Python, Ruby and/or functional languages (Haskell, Scala, F, Clojure) Preferred Tech and Prof Experience Preferred: An undergraduate degree is not required, but students who have taken high school advanced math, and statistics classes are preferred Python Programming knowledge EO Statement IBM is committed to creating a diverse environment and is proud to be an equal opportunity employer. All qualified applicants will receive consideration for employment without regard to race, color, religion, gender, gender identity or expression, sexual orientation, national origin, genetics, disability, age, or veteran status. IBM is also committed to compliance with all fair employment practices regarding citizenship and immigration status.\""
            ],
            "application/vnd.google.colaboratory.intrinsic+json": {
              "type": "string"
            }
          },
          "metadata": {},
          "execution_count": 389
        }
      ],
      "source": [
        "import pandas as pd\n",
        "import numpy as np\n",
        "#pd.set_option('display.max_rows', None)\n",
        "#pd.set_option('display.max_columns', None)\n",
        "\n",
        "df = pd.read_csv('JobsDataset.csv')\n",
        "df = df.drop(['ID', 'Job Title'], axis=1)\n",
        "df['Description'].iloc[0]"
      ]
    },
    {
      "cell_type": "code",
      "source": [
        "df['Query'].value_counts()"
      ],
      "metadata": {
        "colab": {
          "base_uri": "https://localhost:8080/"
        },
        "id": "IsLH3yzvcWW9",
        "outputId": "7ad8b3bc-9c75-47f2-c528-c0504503ee5b"
      },
      "execution_count": 390,
      "outputs": [
        {
          "output_type": "execute_result",
          "data": {
            "text/plain": [
              "Cloud Architect                  540\n",
              "Network Architect                511\n",
              "Database Administrator           400\n",
              "Full Stack Developer             400\n",
              "Data Scientist                   400\n",
              "Data and Analytics Manager       399\n",
              "Data Architect                   399\n",
              "Technology Integration           399\n",
              "IT Systems Administrator         399\n",
              "IT Consultant                    398\n",
              "Data Analyst                     397\n",
              "Business Analyst                 396\n",
              "Information Security Analyst     395\n",
              "Cloud Services Developer         395\n",
              "Data Quality Manager             394\n",
              "Technical Operations             394\n",
              "Machine Learning                 392\n",
              "Statistics                       390\n",
              "Data Engineer                    385\n",
              "Data Warehousing                 385\n",
              "Artificial Intelligence          382\n",
              "Deep Learning                    381\n",
              "Data Visualization Expert        377\n",
              "Business Intelligence Analyst    372\n",
              "Big Data Engineer                320\n",
              "Name: Query, dtype: int64"
            ]
          },
          "metadata": {},
          "execution_count": 390
        }
      ]
    },
    {
      "cell_type": "code",
      "source": [
        "df['Query'].unique()"
      ],
      "metadata": {
        "colab": {
          "base_uri": "https://localhost:8080/"
        },
        "id": "nxmjW8odePdU",
        "outputId": "487a67b7-1b48-4020-ff0c-c0f83025c35b"
      },
      "execution_count": 391,
      "outputs": [
        {
          "output_type": "execute_result",
          "data": {
            "text/plain": [
              "array(['Data Scientist', 'Data Analyst', 'Data Architect',\n",
              "       'Data Engineer', 'Statistics', 'Database Administrator',\n",
              "       'Business Analyst', 'Data and Analytics Manager',\n",
              "       'Machine Learning', 'Artificial Intelligence', 'Deep Learning',\n",
              "       'Business Intelligence Analyst', 'Data Visualization Expert',\n",
              "       'Data Quality Manager', 'Big Data Engineer', 'Data Warehousing',\n",
              "       'Technology Integration', 'IT Consultant',\n",
              "       'IT Systems Administrator', 'Cloud Architect',\n",
              "       'Technical Operations', 'Cloud Services Developer',\n",
              "       'Full Stack Developer', 'Information Security Analyst',\n",
              "       'Network Architect'], dtype=object)"
            ]
          },
          "metadata": {},
          "execution_count": 391
        }
      ]
    },
    {
      "cell_type": "code",
      "source": [
        "df = df.loc[df['Query'].isin(['Data Scientist', 'Data Analyst', 'Data Engineer', 'Machine Learning'])]\n",
        "len(df)"
      ],
      "metadata": {
        "colab": {
          "base_uri": "https://localhost:8080/"
        },
        "id": "5_grgblQcjfj",
        "outputId": "565378aa-25f8-469c-b10d-7bb90716c86c"
      },
      "execution_count": 392,
      "outputs": [
        {
          "output_type": "execute_result",
          "data": {
            "text/plain": [
              "1574"
            ]
          },
          "metadata": {},
          "execution_count": 392
        }
      ]
    },
    {
      "cell_type": "code",
      "source": [
        "df.head()"
      ],
      "metadata": {
        "colab": {
          "base_uri": "https://localhost:8080/",
          "height": 201
        },
        "id": "-R5VJed8cZ2_",
        "outputId": "629a6187-0520-4701-cf7c-912c3da06f52"
      },
      "execution_count": 393,
      "outputs": [
        {
          "output_type": "execute_result",
          "data": {
            "text/plain": [
              "            Query                                        Description\n",
              "0  Data Scientist  Job Description As a Junior Data Scientist at ...\n",
              "1  Data Scientist  OVERALL SUMMARY As a Data Scientist on the Dat...\n",
              "2  Data Scientist  The Team: The Data science team is a newly for...\n",
              "3  Data Scientist  We now have a need for junior Data Scientist(s...\n",
              "4  Data Scientist  Do you want to help guide the core business of..."
            ],
            "text/html": [
              "\n",
              "  <div id=\"df-4ee4085e-74c0-4215-aa43-4909e380cb15\">\n",
              "    <div class=\"colab-df-container\">\n",
              "      <div>\n",
              "<style scoped>\n",
              "    .dataframe tbody tr th:only-of-type {\n",
              "        vertical-align: middle;\n",
              "    }\n",
              "\n",
              "    .dataframe tbody tr th {\n",
              "        vertical-align: top;\n",
              "    }\n",
              "\n",
              "    .dataframe thead th {\n",
              "        text-align: right;\n",
              "    }\n",
              "</style>\n",
              "<table border=\"1\" class=\"dataframe\">\n",
              "  <thead>\n",
              "    <tr style=\"text-align: right;\">\n",
              "      <th></th>\n",
              "      <th>Query</th>\n",
              "      <th>Description</th>\n",
              "    </tr>\n",
              "  </thead>\n",
              "  <tbody>\n",
              "    <tr>\n",
              "      <th>0</th>\n",
              "      <td>Data Scientist</td>\n",
              "      <td>Job Description As a Junior Data Scientist at ...</td>\n",
              "    </tr>\n",
              "    <tr>\n",
              "      <th>1</th>\n",
              "      <td>Data Scientist</td>\n",
              "      <td>OVERALL SUMMARY As a Data Scientist on the Dat...</td>\n",
              "    </tr>\n",
              "    <tr>\n",
              "      <th>2</th>\n",
              "      <td>Data Scientist</td>\n",
              "      <td>The Team: The Data science team is a newly for...</td>\n",
              "    </tr>\n",
              "    <tr>\n",
              "      <th>3</th>\n",
              "      <td>Data Scientist</td>\n",
              "      <td>We now have a need for junior Data Scientist(s...</td>\n",
              "    </tr>\n",
              "    <tr>\n",
              "      <th>4</th>\n",
              "      <td>Data Scientist</td>\n",
              "      <td>Do you want to help guide the core business of...</td>\n",
              "    </tr>\n",
              "  </tbody>\n",
              "</table>\n",
              "</div>\n",
              "      <button class=\"colab-df-convert\" onclick=\"convertToInteractive('df-4ee4085e-74c0-4215-aa43-4909e380cb15')\"\n",
              "              title=\"Convert this dataframe to an interactive table.\"\n",
              "              style=\"display:none;\">\n",
              "        \n",
              "  <svg xmlns=\"http://www.w3.org/2000/svg\" height=\"24px\"viewBox=\"0 0 24 24\"\n",
              "       width=\"24px\">\n",
              "    <path d=\"M0 0h24v24H0V0z\" fill=\"none\"/>\n",
              "    <path d=\"M18.56 5.44l.94 2.06.94-2.06 2.06-.94-2.06-.94-.94-2.06-.94 2.06-2.06.94zm-11 1L8.5 8.5l.94-2.06 2.06-.94-2.06-.94L8.5 2.5l-.94 2.06-2.06.94zm10 10l.94 2.06.94-2.06 2.06-.94-2.06-.94-.94-2.06-.94 2.06-2.06.94z\"/><path d=\"M17.41 7.96l-1.37-1.37c-.4-.4-.92-.59-1.43-.59-.52 0-1.04.2-1.43.59L10.3 9.45l-7.72 7.72c-.78.78-.78 2.05 0 2.83L4 21.41c.39.39.9.59 1.41.59.51 0 1.02-.2 1.41-.59l7.78-7.78 2.81-2.81c.8-.78.8-2.07 0-2.86zM5.41 20L4 18.59l7.72-7.72 1.47 1.35L5.41 20z\"/>\n",
              "  </svg>\n",
              "      </button>\n",
              "      \n",
              "  <style>\n",
              "    .colab-df-container {\n",
              "      display:flex;\n",
              "      flex-wrap:wrap;\n",
              "      gap: 12px;\n",
              "    }\n",
              "\n",
              "    .colab-df-convert {\n",
              "      background-color: #E8F0FE;\n",
              "      border: none;\n",
              "      border-radius: 50%;\n",
              "      cursor: pointer;\n",
              "      display: none;\n",
              "      fill: #1967D2;\n",
              "      height: 32px;\n",
              "      padding: 0 0 0 0;\n",
              "      width: 32px;\n",
              "    }\n",
              "\n",
              "    .colab-df-convert:hover {\n",
              "      background-color: #E2EBFA;\n",
              "      box-shadow: 0px 1px 2px rgba(60, 64, 67, 0.3), 0px 1px 3px 1px rgba(60, 64, 67, 0.15);\n",
              "      fill: #174EA6;\n",
              "    }\n",
              "\n",
              "    [theme=dark] .colab-df-convert {\n",
              "      background-color: #3B4455;\n",
              "      fill: #D2E3FC;\n",
              "    }\n",
              "\n",
              "    [theme=dark] .colab-df-convert:hover {\n",
              "      background-color: #434B5C;\n",
              "      box-shadow: 0px 1px 3px 1px rgba(0, 0, 0, 0.15);\n",
              "      filter: drop-shadow(0px 1px 2px rgba(0, 0, 0, 0.3));\n",
              "      fill: #FFFFFF;\n",
              "    }\n",
              "  </style>\n",
              "\n",
              "      <script>\n",
              "        const buttonEl =\n",
              "          document.querySelector('#df-4ee4085e-74c0-4215-aa43-4909e380cb15 button.colab-df-convert');\n",
              "        buttonEl.style.display =\n",
              "          google.colab.kernel.accessAllowed ? 'block' : 'none';\n",
              "\n",
              "        async function convertToInteractive(key) {\n",
              "          const element = document.querySelector('#df-4ee4085e-74c0-4215-aa43-4909e380cb15');\n",
              "          const dataTable =\n",
              "            await google.colab.kernel.invokeFunction('convertToInteractive',\n",
              "                                                     [key], {});\n",
              "          if (!dataTable) return;\n",
              "\n",
              "          const docLinkHtml = 'Like what you see? Visit the ' +\n",
              "            '<a target=\"_blank\" href=https://colab.research.google.com/notebooks/data_table.ipynb>data table notebook</a>'\n",
              "            + ' to learn more about interactive tables.';\n",
              "          element.innerHTML = '';\n",
              "          dataTable['output_type'] = 'display_data';\n",
              "          await google.colab.output.renderOutput(dataTable, element);\n",
              "          const docLink = document.createElement('div');\n",
              "          docLink.innerHTML = docLinkHtml;\n",
              "          element.appendChild(docLink);\n",
              "        }\n",
              "      </script>\n",
              "    </div>\n",
              "  </div>\n",
              "  "
            ]
          },
          "metadata": {},
          "execution_count": 393
        }
      ]
    },
    {
      "cell_type": "markdown",
      "source": [
        "# **INITIAL CLEANING**"
      ],
      "metadata": {
        "id": "ESBRByn61Dam"
      }
    },
    {
      "cell_type": "code",
      "source": [
        "#let's make longer output readable without scrolling\n",
        "from pprint import pprint"
      ],
      "metadata": {
        "id": "xiOPNQWSmoIv"
      },
      "execution_count": 394,
      "outputs": []
    },
    {
      "cell_type": "code",
      "source": [
        "import re\n",
        "df = df.loc[df['Query'].isin(['Data Scientist', 'Data Analyst', 'Data Engineer', 'Machine Learning'])]\n",
        "#lower case\n",
        "cleaned_data = []\n",
        "count = 0\n",
        "for description in df['Description']:\n",
        "\n",
        "  description = description.lower()\n",
        "  # replace commas with periods to account for sentences\n",
        "  description = description.replace(\",\", \".\")\n",
        "  #remove all punctuation except periods\n",
        "  description = re.sub(r'[^.\\w\\s]','',description)\n",
        "  description = description.replace(\"\\n\", \" \")\n",
        "\n",
        "  #replace dates\n",
        "  description = re.sub('(Jan|Feb|Mar|Apr|May|Jun|jul|Aug|Sep|Oct|Nov|Dec)\\s\\d{2}.\\s\\d{4}.', ' ', description)\n",
        "\n",
        "  if 'what youll do' in description: \n",
        "    description = description.split(\"what youll do\",1)[1]\n",
        "  # elif 'you will' in description: \n",
        "  #   description = description.split(\"you will\",1)[1]\n",
        "\n",
        "  elif 'responsibilities' in description:\n",
        "    #print('responsibilities\\n') \n",
        "    description = description.split(\"responsibilities\",1)[1]\n",
        "  elif 'duties' in description: \n",
        "    #print('dutiesue\\n') \n",
        "    description = description.split(\"duties\",1)[1]\n",
        "  elif 'qualifications' in description: \n",
        "  # print('qualifications\\n') \n",
        "    description = description.split(\"qualifications\",1)[1]\n",
        "\n",
        "  # if description is less than 100 words, keep entire description\n",
        "  if len(description) < 100:\n",
        "    description = cleaned_original_description\n",
        "  if description[-1:] != '.':\n",
        "    description = description + '.'\n",
        "  if description.count('.') == 1:\n",
        "    description = 'single_sentence'\n",
        "\n",
        "\n",
        "  cleaned_data.append(description)\n",
        "#add to clean column\n",
        "df['cleaned_description'] = cleaned_data\n"
      ],
      "metadata": {
        "id": "TpOciNNk9kRZ"
      },
      "execution_count": 395,
      "outputs": []
    },
    {
      "cell_type": "code",
      "source": [
        "#remove single sentence descriptions\n",
        "df = df.loc[df['cleaned_description']!='single_sentence']\n"
      ],
      "metadata": {
        "id": "MPzDy52hBU-E"
      },
      "execution_count": 396,
      "outputs": []
    },
    {
      "cell_type": "code",
      "source": [
        "#length of words\n",
        "words =  df['cleaned_description'].str.split()\n",
        "df['length'] = words.str.len()\n",
        "print('Initial length', len(df))\n",
        "df = df.loc[df['cleaned_description'].str.len() >= 100]\n",
        "print('Updated length', len(df))\n",
        "df.head(10)\n",
        "df = df.reset_index(drop=True)\n",
        "\n"
      ],
      "metadata": {
        "colab": {
          "base_uri": "https://localhost:8080/"
        },
        "id": "_Vtd0bb7nCoW",
        "outputId": "a0d38a9b-bdf5-4b5d-d328-9b0e78ac172b"
      },
      "execution_count": 397,
      "outputs": [
        {
          "output_type": "stream",
          "name": "stdout",
          "text": [
            "Initial length 1562\n",
            "Updated length 1562\n"
          ]
        }
      ]
    },
    {
      "cell_type": "code",
      "source": [
        "print('The average amount of words in each description : ', np.mean(df['length']))"
      ],
      "metadata": {
        "colab": {
          "base_uri": "https://localhost:8080/"
        },
        "id": "efAlegk4mmAc",
        "outputId": "3d507ca9-b40c-4baf-874d-eafdd39e6f87"
      },
      "execution_count": 353,
      "outputs": [
        {
          "output_type": "stream",
          "name": "stdout",
          "text": [
            "The average amount of words in each description :  340.4295819935691\n"
          ]
        }
      ]
    },
    {
      "cell_type": "code",
      "source": [
        "df['cleaned_description'][544]"
      ],
      "metadata": {
        "colab": {
          "base_uri": "https://localhost:8080/",
          "height": 132
        },
        "id": "qFl_ieHXJQZc",
        "outputId": "92853816-2b56-4d38-8bdd-0b751a9191df"
      },
      "execution_count": 402,
      "outputs": [
        {
          "output_type": "execute_result",
          "data": {
            "text/plain": [
              "' utilize salesforce and other data repositories to access. clean. prepare. analyze. and visualize data while carefully documenting all programs. datasets. and methodologies prepare and deliver written and visual presentations. reports. or memos for internal stakeholders that communicate qualitative research and quantitative analysis in a simple. concise. and interpretable manner collaborate with bi analysts and investment team leads and to develop dashboards for various datasets including sales pipelines. partnerships  referrals collaborate with colleagues. leadership. and internal stakeholders to design. test. and analyze innovative initiatives conduct descriptive. exploratory. and predictive analytics for the purpose of informing policy development. internal and external organizing campaigns. communications. and strategic decision making maintain efficient qa processes to ensure the accuracy and quality of data desired skills  experience 2 years of experience in a data analytics role advanced proficiency with excel. including knowledge of wide variety of formulas and demonstrated ability to sanitize and interpret messy data sets analytical. datadriven mindset. with the ability to derive actionable insights from data ability to apply insights to key business objectives selfstarter. strong sense of ownership. getting things done strong written and verbal communication skills bachelors degree. preferably in business. marketing. economy or statistics passion for startups and an interest in sales and business operations about us we are smart. passionate and ambitious group of professionals who love coming to work every day  we hope you will too we offer competitive salaries. pre ipo equity. 100 covered medical insurance for employee and dependents. orca passes and a wellstocked office just steps from westlake center and pike place market. founded by andy sack. a seattlearea entrepreneur and mentor to earlystage companies. lighter capital was one of the first lenders to use revenuebased financing to fund tech startups. since 2012. weve provided over 110 million in growth capital to almost 250 startups. our goal is to revolutionize the business of startup finance and help founders maintain control of their companiesand their destinies. check out more about how it works here httpswww.lightercapital.comhowitworks.'"
            ],
            "application/vnd.google.colaboratory.intrinsic+json": {
              "type": "string"
            }
          },
          "metadata": {},
          "execution_count": 402
        }
      ]
    },
    {
      "cell_type": "code",
      "source": [
        "df = df.drop(df.index[[544]])\n",
        "df = df.reset_index(drop=True)"
      ],
      "metadata": {
        "id": "BnN7ZGlKLsni"
      },
      "execution_count": 401,
      "outputs": []
    },
    {
      "cell_type": "markdown",
      "source": [
        "# ABSTRACTIVE SUMMARIZATION"
      ],
      "metadata": {
        "id": "SLfTbv5-0xnB"
      }
    },
    {
      "cell_type": "code",
      "source": [
        "from google.colab import drive\n",
        "drive.mount('/content/drive')"
      ],
      "metadata": {
        "id": "KA4QjpLRNuSV"
      },
      "execution_count": null,
      "outputs": []
    },
    {
      "cell_type": "code",
      "source": [
        "!pip install -q sentencepiece"
      ],
      "metadata": {
        "id": "dzEVHPv8minm",
        "colab": {
          "base_uri": "https://localhost:8080/"
        },
        "outputId": "0b48ea77-1286-4bdb-9b1f-e94f73adaba7"
      },
      "execution_count": 43,
      "outputs": [
        {
          "output_type": "stream",
          "name": "stdout",
          "text": [
            "\u001b[?25l\r\u001b[K     |▎                               | 10 kB 10.5 MB/s eta 0:00:01\r\u001b[K     |▌                               | 20 kB 15.2 MB/s eta 0:00:01\r\u001b[K     |▉                               | 30 kB 17.8 MB/s eta 0:00:01\r\u001b[K     |█                               | 40 kB 20.0 MB/s eta 0:00:01\r\u001b[K     |█▍                              | 51 kB 20.9 MB/s eta 0:00:01\r\u001b[K     |█▋                              | 61 kB 23.2 MB/s eta 0:00:01\r\u001b[K     |██                              | 71 kB 24.8 MB/s eta 0:00:01\r\u001b[K     |██▏                             | 81 kB 21.5 MB/s eta 0:00:01\r\u001b[K     |██▍                             | 92 kB 22.9 MB/s eta 0:00:01\r\u001b[K     |██▊                             | 102 kB 22.4 MB/s eta 0:00:01\r\u001b[K     |███                             | 112 kB 22.4 MB/s eta 0:00:01\r\u001b[K     |███▎                            | 122 kB 22.4 MB/s eta 0:00:01\r\u001b[K     |███▌                            | 133 kB 22.4 MB/s eta 0:00:01\r\u001b[K     |███▉                            | 143 kB 22.4 MB/s eta 0:00:01\r\u001b[K     |████                            | 153 kB 22.4 MB/s eta 0:00:01\r\u001b[K     |████▎                           | 163 kB 22.4 MB/s eta 0:00:01\r\u001b[K     |████▋                           | 174 kB 22.4 MB/s eta 0:00:01\r\u001b[K     |████▉                           | 184 kB 22.4 MB/s eta 0:00:01\r\u001b[K     |█████▏                          | 194 kB 22.4 MB/s eta 0:00:01\r\u001b[K     |█████▍                          | 204 kB 22.4 MB/s eta 0:00:01\r\u001b[K     |█████▊                          | 215 kB 22.4 MB/s eta 0:00:01\r\u001b[K     |██████                          | 225 kB 22.4 MB/s eta 0:00:01\r\u001b[K     |██████▏                         | 235 kB 22.4 MB/s eta 0:00:01\r\u001b[K     |██████▌                         | 245 kB 22.4 MB/s eta 0:00:01\r\u001b[K     |██████▊                         | 256 kB 22.4 MB/s eta 0:00:01\r\u001b[K     |███████                         | 266 kB 22.4 MB/s eta 0:00:01\r\u001b[K     |███████▎                        | 276 kB 22.4 MB/s eta 0:00:01\r\u001b[K     |███████▋                        | 286 kB 22.4 MB/s eta 0:00:01\r\u001b[K     |███████▉                        | 296 kB 22.4 MB/s eta 0:00:01\r\u001b[K     |████████                        | 307 kB 22.4 MB/s eta 0:00:01\r\u001b[K     |████████▍                       | 317 kB 22.4 MB/s eta 0:00:01\r\u001b[K     |████████▋                       | 327 kB 22.4 MB/s eta 0:00:01\r\u001b[K     |█████████                       | 337 kB 22.4 MB/s eta 0:00:01\r\u001b[K     |█████████▏                      | 348 kB 22.4 MB/s eta 0:00:01\r\u001b[K     |█████████▌                      | 358 kB 22.4 MB/s eta 0:00:01\r\u001b[K     |█████████▊                      | 368 kB 22.4 MB/s eta 0:00:01\r\u001b[K     |██████████                      | 378 kB 22.4 MB/s eta 0:00:01\r\u001b[K     |██████████▎                     | 389 kB 22.4 MB/s eta 0:00:01\r\u001b[K     |██████████▌                     | 399 kB 22.4 MB/s eta 0:00:01\r\u001b[K     |██████████▉                     | 409 kB 22.4 MB/s eta 0:00:01\r\u001b[K     |███████████                     | 419 kB 22.4 MB/s eta 0:00:01\r\u001b[K     |███████████▍                    | 430 kB 22.4 MB/s eta 0:00:01\r\u001b[K     |███████████▋                    | 440 kB 22.4 MB/s eta 0:00:01\r\u001b[K     |███████████▉                    | 450 kB 22.4 MB/s eta 0:00:01\r\u001b[K     |████████████▏                   | 460 kB 22.4 MB/s eta 0:00:01\r\u001b[K     |████████████▍                   | 471 kB 22.4 MB/s eta 0:00:01\r\u001b[K     |████████████▊                   | 481 kB 22.4 MB/s eta 0:00:01\r\u001b[K     |█████████████                   | 491 kB 22.4 MB/s eta 0:00:01\r\u001b[K     |█████████████▎                  | 501 kB 22.4 MB/s eta 0:00:01\r\u001b[K     |█████████████▌                  | 512 kB 22.4 MB/s eta 0:00:01\r\u001b[K     |█████████████▊                  | 522 kB 22.4 MB/s eta 0:00:01\r\u001b[K     |██████████████                  | 532 kB 22.4 MB/s eta 0:00:01\r\u001b[K     |██████████████▎                 | 542 kB 22.4 MB/s eta 0:00:01\r\u001b[K     |██████████████▋                 | 552 kB 22.4 MB/s eta 0:00:01\r\u001b[K     |██████████████▉                 | 563 kB 22.4 MB/s eta 0:00:01\r\u001b[K     |███████████████▏                | 573 kB 22.4 MB/s eta 0:00:01\r\u001b[K     |███████████████▍                | 583 kB 22.4 MB/s eta 0:00:01\r\u001b[K     |███████████████▋                | 593 kB 22.4 MB/s eta 0:00:01\r\u001b[K     |████████████████                | 604 kB 22.4 MB/s eta 0:00:01\r\u001b[K     |████████████████▏               | 614 kB 22.4 MB/s eta 0:00:01\r\u001b[K     |████████████████▌               | 624 kB 22.4 MB/s eta 0:00:01\r\u001b[K     |████████████████▊               | 634 kB 22.4 MB/s eta 0:00:01\r\u001b[K     |█████████████████               | 645 kB 22.4 MB/s eta 0:00:01\r\u001b[K     |█████████████████▎              | 655 kB 22.4 MB/s eta 0:00:01\r\u001b[K     |█████████████████▌              | 665 kB 22.4 MB/s eta 0:00:01\r\u001b[K     |█████████████████▉              | 675 kB 22.4 MB/s eta 0:00:01\r\u001b[K     |██████████████████              | 686 kB 22.4 MB/s eta 0:00:01\r\u001b[K     |██████████████████▍             | 696 kB 22.4 MB/s eta 0:00:01\r\u001b[K     |██████████████████▋             | 706 kB 22.4 MB/s eta 0:00:01\r\u001b[K     |███████████████████             | 716 kB 22.4 MB/s eta 0:00:01\r\u001b[K     |███████████████████▏            | 727 kB 22.4 MB/s eta 0:00:01\r\u001b[K     |███████████████████▍            | 737 kB 22.4 MB/s eta 0:00:01\r\u001b[K     |███████████████████▊            | 747 kB 22.4 MB/s eta 0:00:01\r\u001b[K     |████████████████████            | 757 kB 22.4 MB/s eta 0:00:01\r\u001b[K     |████████████████████▎           | 768 kB 22.4 MB/s eta 0:00:01\r\u001b[K     |████████████████████▌           | 778 kB 22.4 MB/s eta 0:00:01\r\u001b[K     |████████████████████▉           | 788 kB 22.4 MB/s eta 0:00:01\r\u001b[K     |█████████████████████           | 798 kB 22.4 MB/s eta 0:00:01\r\u001b[K     |█████████████████████▎          | 808 kB 22.4 MB/s eta 0:00:01\r\u001b[K     |█████████████████████▋          | 819 kB 22.4 MB/s eta 0:00:01\r\u001b[K     |█████████████████████▉          | 829 kB 22.4 MB/s eta 0:00:01\r\u001b[K     |██████████████████████▏         | 839 kB 22.4 MB/s eta 0:00:01\r\u001b[K     |██████████████████████▍         | 849 kB 22.4 MB/s eta 0:00:01\r\u001b[K     |██████████████████████▊         | 860 kB 22.4 MB/s eta 0:00:01\r\u001b[K     |███████████████████████         | 870 kB 22.4 MB/s eta 0:00:01\r\u001b[K     |███████████████████████▏        | 880 kB 22.4 MB/s eta 0:00:01\r\u001b[K     |███████████████████████▌        | 890 kB 22.4 MB/s eta 0:00:01\r\u001b[K     |███████████████████████▊        | 901 kB 22.4 MB/s eta 0:00:01\r\u001b[K     |████████████████████████        | 911 kB 22.4 MB/s eta 0:00:01\r\u001b[K     |████████████████████████▎       | 921 kB 22.4 MB/s eta 0:00:01\r\u001b[K     |████████████████████████▋       | 931 kB 22.4 MB/s eta 0:00:01\r\u001b[K     |████████████████████████▉       | 942 kB 22.4 MB/s eta 0:00:01\r\u001b[K     |█████████████████████████       | 952 kB 22.4 MB/s eta 0:00:01\r\u001b[K     |█████████████████████████▍      | 962 kB 22.4 MB/s eta 0:00:01\r\u001b[K     |█████████████████████████▋      | 972 kB 22.4 MB/s eta 0:00:01\r\u001b[K     |██████████████████████████      | 983 kB 22.4 MB/s eta 0:00:01\r\u001b[K     |██████████████████████████▏     | 993 kB 22.4 MB/s eta 0:00:01\r\u001b[K     |██████████████████████████▌     | 1.0 MB 22.4 MB/s eta 0:00:01\r\u001b[K     |██████████████████████████▊     | 1.0 MB 22.4 MB/s eta 0:00:01\r\u001b[K     |███████████████████████████     | 1.0 MB 22.4 MB/s eta 0:00:01\r\u001b[K     |███████████████████████████▎    | 1.0 MB 22.4 MB/s eta 0:00:01\r\u001b[K     |███████████████████████████▌    | 1.0 MB 22.4 MB/s eta 0:00:01\r\u001b[K     |███████████████████████████▉    | 1.1 MB 22.4 MB/s eta 0:00:01\r\u001b[K     |████████████████████████████    | 1.1 MB 22.4 MB/s eta 0:00:01\r\u001b[K     |████████████████████████████▍   | 1.1 MB 22.4 MB/s eta 0:00:01\r\u001b[K     |████████████████████████████▋   | 1.1 MB 22.4 MB/s eta 0:00:01\r\u001b[K     |████████████████████████████▉   | 1.1 MB 22.4 MB/s eta 0:00:01\r\u001b[K     |█████████████████████████████▏  | 1.1 MB 22.4 MB/s eta 0:00:01\r\u001b[K     |█████████████████████████████▍  | 1.1 MB 22.4 MB/s eta 0:00:01\r\u001b[K     |█████████████████████████████▊  | 1.1 MB 22.4 MB/s eta 0:00:01\r\u001b[K     |██████████████████████████████  | 1.1 MB 22.4 MB/s eta 0:00:01\r\u001b[K     |██████████████████████████████▎ | 1.1 MB 22.4 MB/s eta 0:00:01\r\u001b[K     |██████████████████████████████▌ | 1.2 MB 22.4 MB/s eta 0:00:01\r\u001b[K     |██████████████████████████████▊ | 1.2 MB 22.4 MB/s eta 0:00:01\r\u001b[K     |███████████████████████████████ | 1.2 MB 22.4 MB/s eta 0:00:01\r\u001b[K     |███████████████████████████████▎| 1.2 MB 22.4 MB/s eta 0:00:01\r\u001b[K     |███████████████████████████████▋| 1.2 MB 22.4 MB/s eta 0:00:01\r\u001b[K     |███████████████████████████████▉| 1.2 MB 22.4 MB/s eta 0:00:01\r\u001b[K     |████████████████████████████████| 1.2 MB 22.4 MB/s \n",
            "\u001b[?25h"
          ]
        }
      ]
    },
    {
      "cell_type": "code",
      "source": [
        "!pip install -q transformers"
      ],
      "metadata": {
        "id": "VFvuD36smjX4",
        "colab": {
          "base_uri": "https://localhost:8080/"
        },
        "outputId": "c72bf9b6-2bd1-4326-e065-f6d1dfa6a93c"
      },
      "execution_count": 44,
      "outputs": [
        {
          "output_type": "stream",
          "name": "stdout",
          "text": [
            "\u001b[K     |████████████████████████████████| 4.4 MB 30.7 MB/s \n",
            "\u001b[K     |████████████████████████████████| 101 kB 12.7 MB/s \n",
            "\u001b[K     |████████████████████████████████| 6.6 MB 52.4 MB/s \n",
            "\u001b[K     |████████████████████████████████| 596 kB 45.6 MB/s \n",
            "\u001b[?25h"
          ]
        }
      ]
    },
    {
      "cell_type": "code",
      "source": [
        "!pip install -q datasets"
      ],
      "metadata": {
        "id": "r1FCbi7-mjhz",
        "colab": {
          "base_uri": "https://localhost:8080/"
        },
        "outputId": "42d58814-4d71-4a74-f100-4a15aaed9048"
      },
      "execution_count": 45,
      "outputs": [
        {
          "output_type": "stream",
          "name": "stdout",
          "text": [
            "\u001b[K     |████████████████████████████████| 362 kB 28.6 MB/s \n",
            "\u001b[K     |████████████████████████████████| 212 kB 52.4 MB/s \n",
            "\u001b[K     |████████████████████████████████| 140 kB 39.5 MB/s \n",
            "\u001b[K     |████████████████████████████████| 1.1 MB 41.5 MB/s \n",
            "\u001b[K     |████████████████████████████████| 127 kB 35.2 MB/s \n",
            "\u001b[K     |████████████████████████████████| 271 kB 41.2 MB/s \n",
            "\u001b[K     |████████████████████████████████| 94 kB 3.5 MB/s \n",
            "\u001b[K     |████████████████████████████████| 144 kB 48.0 MB/s \n",
            "\u001b[31mERROR: pip's dependency resolver does not currently take into account all the packages that are installed. This behaviour is the source of the following dependency conflicts.\n",
            "datascience 0.10.6 requires folium==0.2.1, but you have folium 0.8.3 which is incompatible.\u001b[0m\n",
            "\u001b[?25h"
          ]
        }
      ]
    },
    {
      "cell_type": "code",
      "source": [
        "article = df['cleaned_description'][2]"
      ],
      "metadata": {
        "id": "_4vy8EX6lT_O"
      },
      "execution_count": 82,
      "outputs": []
    },
    {
      "cell_type": "code",
      "source": [
        "from transformers import PegasusTokenizer, TFPegasusForConditionalGeneration\n",
        "\n",
        "model = TFPegasusForConditionalGeneration.from_pretrained(\"google/pegasus-xsum\")\n",
        "tokenizer = PegasusTokenizer.from_pretrained(\"google/pegasus-xsum\")"
      ],
      "metadata": {
        "colab": {
          "base_uri": "https://localhost:8080/",
          "height": 262,
          "referenced_widgets": [
            "13a777e1ec1241f8928907e0c457772e",
            "b885dc55605747ca841d424d6b515c74",
            "4f3f89b700fe4ffb9e77157e1a29f54f",
            "086937ac7c114bbd8fe3ec019a44b40f",
            "7c80e743af4e441e9dc6cab733aab535",
            "d48caf08ea9c4bf996bce0adb171bb8c",
            "f2db70a9c20648a3a52ac84abdd7c503",
            "f8b8105de6044f11a2d89c42c3d0b503",
            "2d58eb17e11843c398e59c774db358f8",
            "2015a7e60b474ecfbf57c16cb3092e16",
            "c439743b0acb4a84b345bc7a5e10635b",
            "c5c52409180f42b48359eaa01cfa0b2a",
            "8126ea44e28348c89997157239164101",
            "53960010693b43db8ca81b787f7d78fb",
            "3973d402737f4099a41b341456aad373",
            "fb9bb8883e714963a38b0075669a08df",
            "90e876789813451a875dcfc20a6aaf2a",
            "0261f864e87f40b6b98b11c3ab61bd99",
            "2de88cb0a7944dd8b2ed8b61f7b8b639",
            "c298f5624c5a4a0fb7717b4d8075e0df",
            "40b7b1199b04448392403b5e5bbd4981",
            "0dd7aacdb7914280b00add009dc473a0",
            "431d37f61cb64498aca1c65d1c073ebe",
            "5d0b7f6048634e63969377d9e8dfc9ba",
            "5c0b0f66291a4e42829ee1bce5c5e9aa",
            "a4d3b9ffc1834f0cac92c995b43e798d",
            "dafaac2b87c04913b8e3f8407ec74d3a",
            "a0bec13d72f44e86a2bc53d787aa0699",
            "b11441f125ce4a238aa85ed76117398d",
            "d9c566a0678942c3b0d8b26f391c42bc",
            "ba506654c10c4cff828cf3ff656baae6",
            "515c513a097241f99610a2bf2f44867b",
            "064a41db94b449bd8af64a3183d30bd5",
            "2ff1d234e432424493d58360d790e42f",
            "3643b2077c444a67ac8432cb0c715889",
            "3dcc65b7ae6a473192ae068e3306042a",
            "88864c42229d43378547b44f59b337d4",
            "ec50bc7d92b640109546281b4c6f34be",
            "e360beb22a94423eacf26efb9f63586b",
            "4679487cb63d485fbb89246d58c64bd9",
            "052094ab64b844f3b7faab9f76323224",
            "8a8ce48ed6a54490b6fd25a9a160d5bc",
            "f05435b28de34186b28b7c49f36662dc",
            "72a3da537f6e4566bbe8a3fad9bfbb14",
            "b1ab22ffee2e49aaba6c0955029fe4bf",
            "f08913bf53d5416d9a461c6ac3f6d962",
            "515185d3ce224d389c39f1659f2e2cde",
            "b7b1996410eb40c78c2f718eec07de3b",
            "ae05f9286b344fb5a2f8915062e81f72",
            "5f6deb1a69aa4345b1d034922822dde2",
            "11fdaee5c62a4ac7ad3f30f37257bf31",
            "b43a14372b8f4b2c9eaf4f0e8dffb477",
            "c08edec9602045af911b627df516c9f6",
            "165b514ecc8d4fe39303c85249d19656",
            "0977aaa6f47d4864bee1114da6e3a29c"
          ]
        },
        "id": "tCSDAOv2moXv",
        "outputId": "d1a382ce-7a9a-4963-931a-7ee6719e5aef"
      },
      "execution_count": 47,
      "outputs": [
        {
          "output_type": "display_data",
          "data": {
            "text/plain": [
              "Downloading:   0%|          | 0.00/1.36k [00:00<?, ?B/s]"
            ],
            "application/vnd.jupyter.widget-view+json": {
              "version_major": 2,
              "version_minor": 0,
              "model_id": "13a777e1ec1241f8928907e0c457772e"
            }
          },
          "metadata": {}
        },
        {
          "output_type": "display_data",
          "data": {
            "text/plain": [
              "Downloading:   0%|          | 0.00/2.12G [00:00<?, ?B/s]"
            ],
            "application/vnd.jupyter.widget-view+json": {
              "version_major": 2,
              "version_minor": 0,
              "model_id": "c5c52409180f42b48359eaa01cfa0b2a"
            }
          },
          "metadata": {}
        },
        {
          "output_type": "stream",
          "name": "stderr",
          "text": [
            "All model checkpoint layers were used when initializing TFPegasusForConditionalGeneration.\n",
            "\n",
            "All the layers of TFPegasusForConditionalGeneration were initialized from the model checkpoint at google/pegasus-xsum.\n",
            "If your task is similar to the task the model of the checkpoint was trained on, you can already use TFPegasusForConditionalGeneration for predictions without further training.\n"
          ]
        },
        {
          "output_type": "display_data",
          "data": {
            "text/plain": [
              "Downloading:   0%|          | 0.00/1.82M [00:00<?, ?B/s]"
            ],
            "application/vnd.jupyter.widget-view+json": {
              "version_major": 2,
              "version_minor": 0,
              "model_id": "431d37f61cb64498aca1c65d1c073ebe"
            }
          },
          "metadata": {}
        },
        {
          "output_type": "display_data",
          "data": {
            "text/plain": [
              "Downloading:   0%|          | 0.00/65.0 [00:00<?, ?B/s]"
            ],
            "application/vnd.jupyter.widget-view+json": {
              "version_major": 2,
              "version_minor": 0,
              "model_id": "2ff1d234e432424493d58360d790e42f"
            }
          },
          "metadata": {}
        },
        {
          "output_type": "display_data",
          "data": {
            "text/plain": [
              "Downloading:   0%|          | 0.00/87.0 [00:00<?, ?B/s]"
            ],
            "application/vnd.jupyter.widget-view+json": {
              "version_major": 2,
              "version_minor": 0,
              "model_id": "b1ab22ffee2e49aaba6c0955029fe4bf"
            }
          },
          "metadata": {}
        }
      ]
    },
    {
      "cell_type": "code",
      "source": [
        "inputs = tokenizer(article, max_length=1024, truncation=True, return_tensors=\"tf\")"
      ],
      "metadata": {
        "id": "6c04OUxZoIRE"
      },
      "execution_count": 48,
      "outputs": []
    },
    {
      "cell_type": "code",
      "source": [
        "# Generate Summary\n",
        "summary_ids = model.generate(\n",
        "                              inputs[\"input_ids\"],    \n",
        "                              num_beams=3,\n",
        "                              no_repeat_ngram_size=1,\n",
        "                              min_length=10,\n",
        "                              max_length=50 )\n",
        "pprint(tokenizer.batch_decode(summary_ids, skip_special_tokens=True, clean_up_tokenization_spaces=False)[0], compact=True)"
      ],
      "metadata": {
        "colab": {
          "base_uri": "https://localhost:8080/"
        },
        "id": "-fU72iLWoNv1",
        "outputId": "2ddbfdc4-8c20-41bd-ef91-526ac0968f3c"
      },
      "execution_count": 49,
      "outputs": [
        {
          "output_type": "stream",
          "name": "stdout",
          "text": [
            "(\"The US Department of Labor's statistical research laboratory speo is seeking \"\n",
            " 'a junior data scientist to work on artificial intelligence statistics and '\n",
            " 'machine learning.')\n"
          ]
        }
      ]
    },
    {
      "cell_type": "markdown",
      "source": [
        "## **EXTRACTIVE SUMMARIZATION**"
      ],
      "metadata": {
        "id": "AFyRX6wsIS_q"
      }
    },
    {
      "cell_type": "code",
      "source": [
        "!pip install gensim==3.8.3"
      ],
      "metadata": {
        "colab": {
          "base_uri": "https://localhost:8080/"
        },
        "id": "ShAexwmx1LVY",
        "outputId": "28e0a061-1c43-410c-ee5c-ca950cac0a03"
      },
      "execution_count": 56,
      "outputs": [
        {
          "output_type": "stream",
          "name": "stdout",
          "text": [
            "Looking in indexes: https://pypi.org/simple, https://us-python.pkg.dev/colab-wheels/public/simple/\n",
            "Collecting gensim==3.8.3\n",
            "  Downloading gensim-3.8.3-cp37-cp37m-manylinux1_x86_64.whl (24.2 MB)\n",
            "\u001b[K     |████████████████████████████████| 24.2 MB 1.2 MB/s \n",
            "\u001b[?25hRequirement already satisfied: smart-open>=1.8.1 in /usr/local/lib/python3.7/dist-packages (from gensim==3.8.3) (5.2.1)\n",
            "Requirement already satisfied: scipy>=0.18.1 in /usr/local/lib/python3.7/dist-packages (from gensim==3.8.3) (1.7.3)\n",
            "Requirement already satisfied: six>=1.5.0 in /usr/local/lib/python3.7/dist-packages (from gensim==3.8.3) (1.15.0)\n",
            "Requirement already satisfied: numpy>=1.11.3 in /usr/local/lib/python3.7/dist-packages (from gensim==3.8.3) (1.21.6)\n",
            "Installing collected packages: gensim\n",
            "  Attempting uninstall: gensim\n",
            "    Found existing installation: gensim 3.6.0\n",
            "    Uninstalling gensim-3.6.0:\n",
            "      Successfully uninstalled gensim-3.6.0\n",
            "Successfully installed gensim-3.8.3\n"
          ]
        }
      ]
    },
    {
      "cell_type": "code",
      "source": [
        "!pip install wikipedia\n"
      ],
      "metadata": {
        "colab": {
          "base_uri": "https://localhost:8080/"
        },
        "id": "43UGWtlT2H1D",
        "outputId": "7f431de5-608e-45ea-c0f8-ec5b7ad61678"
      },
      "execution_count": 57,
      "outputs": [
        {
          "output_type": "stream",
          "name": "stdout",
          "text": [
            "Looking in indexes: https://pypi.org/simple, https://us-python.pkg.dev/colab-wheels/public/simple/\n",
            "Collecting wikipedia\n",
            "  Downloading wikipedia-1.4.0.tar.gz (27 kB)\n",
            "Requirement already satisfied: beautifulsoup4 in /usr/local/lib/python3.7/dist-packages (from wikipedia) (4.6.3)\n",
            "Requirement already satisfied: requests<3.0.0,>=2.0.0 in /usr/local/lib/python3.7/dist-packages (from wikipedia) (2.23.0)\n",
            "Requirement already satisfied: certifi>=2017.4.17 in /usr/local/lib/python3.7/dist-packages (from requests<3.0.0,>=2.0.0->wikipedia) (2022.6.15)\n",
            "Requirement already satisfied: idna<3,>=2.5 in /usr/local/lib/python3.7/dist-packages (from requests<3.0.0,>=2.0.0->wikipedia) (2.10)\n",
            "Requirement already satisfied: urllib3!=1.25.0,!=1.25.1,<1.26,>=1.21.1 in /usr/local/lib/python3.7/dist-packages (from requests<3.0.0,>=2.0.0->wikipedia) (1.25.11)\n",
            "Requirement already satisfied: chardet<4,>=3.0.2 in /usr/local/lib/python3.7/dist-packages (from requests<3.0.0,>=2.0.0->wikipedia) (3.0.4)\n",
            "Building wheels for collected packages: wikipedia\n",
            "  Building wheel for wikipedia (setup.py) ... \u001b[?25l\u001b[?25hdone\n",
            "  Created wheel for wikipedia: filename=wikipedia-1.4.0-py3-none-any.whl size=11695 sha256=2057db6f8006874006c42a348a1505161fd5a858024783d0f8ac16d7e929b1c4\n",
            "  Stored in directory: /root/.cache/pip/wheels/15/93/6d/5b2c68b8a64c7a7a04947b4ed6d89fb557dcc6bc27d1d7f3ba\n",
            "Successfully built wikipedia\n",
            "Installing collected packages: wikipedia\n",
            "Successfully installed wikipedia-1.4.0\n"
          ]
        }
      ]
    },
    {
      "cell_type": "code",
      "source": [
        "from gensim.summarization.summarizer import summarize\n",
        "from gensim.summarization import keywords\n",
        "import wikipedia\n",
        "from pprint import pprint\n",
        "\n",
        " "
      ],
      "metadata": {
        "id": "UWg0vIjw2H45"
      },
      "execution_count": 58,
      "outputs": []
    },
    {
      "cell_type": "code",
      "source": [
        "# Summary (50% of the original content).\n",
        "summ_per = summarize(df['cleaned_description'][12], ratio = 0.5)\n",
        "print(\"Percent summary\")\n",
        "pprint(summ_per, compact=True)"
      ],
      "metadata": {
        "colab": {
          "base_uri": "https://localhost:8080/"
        },
        "id": "AK9zIAFx2H-G",
        "outputId": "dea88d43-eed1-44b1-9782-f6c00cf046da"
      },
      "execution_count": 242,
      "outputs": [
        {
          "output_type": "stream",
          "name": "stdout",
          "text": [
            "Percent summary\n",
            "('build predictive models to meet business requirements of the direct and '\n",
            " 'digital marketers conduct ad hoc analyses to identify changes.\\n'\n",
            " 'counts and trends in marketing data produce analyses to compare.\\n'\n",
            " 'validate and improve modeling solutions evaluate third party data create '\n",
            " 'novel solutions and products for online and offline marketers key skills and '\n",
            " 'background graduate degree or related coursework in data mining.\\n'\n",
            " 'operations research or similar field required 1 years experience building '\n",
            " 'predictive models entrylevel experience programming in sas base.\\n'\n",
            " 'stat and some macro or visual analytics and visual statistics advanced '\n",
            " 'microsoft excel knowledge and an overall keen understanding of technology '\n",
            " 'must have experience with large scale database.\\n'\n",
            " 'r or python must have strong quantitativeanalytical skills and extensive '\n",
            " 'attention to detail excellent oral and written communication skills direct '\n",
            " 'and digital marketing industry experience a plus knowledge of linux.')\n"
          ]
        }
      ]
    },
    {
      "cell_type": "code",
      "source": [
        "from gensim.summarization import keywords\n",
        "print(keywords(df['cleaned_description'][17], words=5))"
      ],
      "metadata": {
        "colab": {
          "base_uri": "https://localhost:8080/"
        },
        "id": "q7-94-OA3Ibc",
        "outputId": "9a45fc7b-1775-4b47-db4d-0ba77260d1c8"
      },
      "execution_count": 425,
      "outputs": [
        {
          "output_type": "stream",
          "name": "stdout",
          "text": [
            "data\n",
            "strong\n",
            "experience\n",
            "systems\n",
            "software\n"
          ]
        }
      ]
    },
    {
      "cell_type": "code",
      "source": [
        "# Summary ~25% of the average length\n",
        "\n",
        "\n",
        "summ_words = summarize(df['cleaned_description'][601], word_count = 85)\n",
        "print(\"Word count summary\")\n",
        "pprint(summ_words, compact=True)"
      ],
      "metadata": {
        "colab": {
          "base_uri": "https://localhost:8080/"
        },
        "id": "LYtERZNr2IDC",
        "outputId": "54177715-a7be-49f2-a984-e973468cc62b"
      },
      "execution_count": 418,
      "outputs": [
        {
          "output_type": "stream",
          "name": "stdout",
          "text": [
            "Word count summary\n",
            "('and experience bachelor of science or business required.\\n'\n",
            " 'with major in mathematics.\\n'\n",
            " 'economics.\\n'\n",
            " 'computer science.\\n'\n",
            " 'statistics.\\n'\n",
            " 'or information management preferred.\\n'\n",
            " 'health care experience preferred.\\n'\n",
            " 'technical expertise regarding data models.\\n'\n",
            " 'database design and reporting.\\n'\n",
            " 'strong knowledge and experience with reporting capabilities examples '\n",
            " 'cognos.\\n'\n",
            " 'sql.\\n'\n",
            " 'xml.\\n'\n",
            " 'strong analytic skills with the ability to collect.\\n'\n",
            " 'organize and analyze data and development of reports to share that '\n",
            " 'information.\\n'\n",
            " 'minimum 5 years experience.\\n'\n",
            " 'we offer a competitive salary and benefits package.\\n'\n",
            " 'qualified applicants please submit resume and salary requirements.')\n"
          ]
        }
      ]
    },
    {
      "cell_type": "code",
      "source": [
        "df['cleaned_description'][51]"
      ],
      "metadata": {
        "colab": {
          "base_uri": "https://localhost:8080/",
          "height": 132
        },
        "id": "ayCidYB50ABH",
        "outputId": "0a37f21f-cbea-4520-bf17-56f47270c0b4"
      },
      "execution_count": 158,
      "outputs": [
        {
          "output_type": "execute_result",
          "data": {
            "text/plain": [
              "' provide povs in new marketing analytics methodologies. techniques. tools  technology derive and write clearly articulated key findings and observations from analyzing various data sources and determine a strategy on actionable next steps. stay abreast of industry trends. best practices. and the evolving analytics landscape. keep uptodate with latest technology trends. communicate results and actionable ideas for business growth to key decision makers. implement new statistical or other mathematical methodologies as needed for specific models or analysis. optimize joint development efforts through appropriate database use and project design. requirements 24 years of work experience in marketing analytics or related field such as advertising. direct marketing. online marketing. loyalty marketing. using data to solve complex marketing problems. working knowledge of marketingadvertisingresearch principles. 2 years practical experience on data processing. database programming and data analytics using programming languages such as r. python. java. sas. spss. sql. etc. advanced skills in excel functions pivots. advanced formulasmacros. multispreadsheet links. background in data mining and statistical analysis. able to understand various data structures and implement common methods in data transformation. excellent pattern recognition and predictive modeling skills. alignment with our engage values data is human. entrepreneurial. nimble and scrappy. big brandsall budgets. leave ego at the door. our ambition is to create compelling. effective communications for our clients that lift their businesses and brands. ideas are our business. we believe that great ideas can come from anywhere. at the core we are a creative agency. and we see analytics as a truly creative discipline. certain attitudes define how we work and are important in what we seek for our culture. curiosity be openminded to ideas wherever they come. curious people are unafraid of change and growth. collaboration be selfconfident without a big ego and be eager to work with all types of people. integrity what we say is what we do  honesty and respect in our dealings are always required. resourcefulness to find ways to do whatever it takes for our clients and our people. dedication we celebrate passion and champion the entrepreneurial spirit. this is an incredible opportunity to grow and expand. to live up to your potential and to launch your career as an analytics expert. we are passionate about our work and you should be too. join our dedicated team to see just how far you can go.'"
            ],
            "application/vnd.google.colaboratory.intrinsic+json": {
              "type": "string"
            }
          },
          "metadata": {},
          "execution_count": 158
        }
      ]
    },
    {
      "cell_type": "code",
      "source": [
        "summary = []\n",
        "index = 0\n",
        "for description in df['cleaned_description']:\n",
        "  # Summary ~25% of average 340\n",
        "  result = summarize(description, word_count = 85)\n",
        "  summary.append(result)\n",
        "  index +=1\n",
        "#add to clean column\n",
        "df['extractive_summarization'] = summary\n",
        "df.head(10)"
      ],
      "metadata": {
        "colab": {
          "base_uri": "https://localhost:8080/",
          "height": 1000
        },
        "id": "wKbCk-3Qskil",
        "outputId": "663f9af1-da2b-4c7e-ee22-a58e9f20fc88"
      },
      "execution_count": 419,
      "outputs": [
        {
          "output_type": "stream",
          "name": "stderr",
          "text": [
            "WARNING:gensim.summarization.summarizer:Input text is expected to have at least 10 sentences.\n",
            "WARNING:gensim.summarization.summarizer:Input corpus is expected to have at least 10 documents.\n",
            "WARNING:gensim.summarization.summarizer:Input text is expected to have at least 10 sentences.\n",
            "WARNING:gensim.summarization.summarizer:Input corpus is expected to have at least 10 documents.\n",
            "WARNING:gensim.summarization.summarizer:Input text is expected to have at least 10 sentences.\n",
            "WARNING:gensim.summarization.summarizer:Input corpus is expected to have at least 10 documents.\n",
            "WARNING:gensim.summarization.summarizer:Please add more sentences to the text. The number of reachable nodes is below 3\n",
            "WARNING:gensim.summarization.summarizer:Couldn't get relevant sentences.\n",
            "WARNING:gensim.summarization.summarizer:Please add more sentences to the text. The number of reachable nodes is below 3\n",
            "WARNING:gensim.summarization.summarizer:Couldn't get relevant sentences.\n",
            "WARNING:gensim.summarization.summarizer:Input text is expected to have at least 10 sentences.\n",
            "WARNING:gensim.summarization.summarizer:Input corpus is expected to have at least 10 documents.\n",
            "WARNING:gensim.summarization.summarizer:Input text is expected to have at least 10 sentences.\n",
            "WARNING:gensim.summarization.summarizer:Input corpus is expected to have at least 10 documents.\n",
            "WARNING:gensim.summarization.summarizer:Input text is expected to have at least 10 sentences.\n",
            "WARNING:gensim.summarization.summarizer:Input corpus is expected to have at least 10 documents.\n",
            "WARNING:gensim.summarization.summarizer:Input text is expected to have at least 10 sentences.\n",
            "WARNING:gensim.summarization.summarizer:Input corpus is expected to have at least 10 documents.\n",
            "WARNING:gensim.summarization.summarizer:Input text is expected to have at least 10 sentences.\n",
            "WARNING:gensim.summarization.summarizer:Input corpus is expected to have at least 10 documents.\n",
            "WARNING:gensim.summarization.summarizer:Input text is expected to have at least 10 sentences.\n",
            "WARNING:gensim.summarization.summarizer:Input corpus is expected to have at least 10 documents.\n",
            "WARNING:gensim.summarization.summarizer:Input text is expected to have at least 10 sentences.\n",
            "WARNING:gensim.summarization.summarizer:Input corpus is expected to have at least 10 documents.\n",
            "WARNING:gensim.summarization.summarizer:Input text is expected to have at least 10 sentences.\n",
            "WARNING:gensim.summarization.summarizer:Input corpus is expected to have at least 10 documents.\n",
            "WARNING:gensim.summarization.summarizer:Input text is expected to have at least 10 sentences.\n",
            "WARNING:gensim.summarization.summarizer:Input corpus is expected to have at least 10 documents.\n",
            "WARNING:gensim.summarization.summarizer:Input text is expected to have at least 10 sentences.\n",
            "WARNING:gensim.summarization.summarizer:Input corpus is expected to have at least 10 documents.\n",
            "WARNING:gensim.summarization.summarizer:Input text is expected to have at least 10 sentences.\n",
            "WARNING:gensim.summarization.summarizer:Input corpus is expected to have at least 10 documents.\n",
            "WARNING:gensim.summarization.summarizer:Please add more sentences to the text. The number of reachable nodes is below 3\n",
            "WARNING:gensim.summarization.summarizer:Couldn't get relevant sentences.\n",
            "WARNING:gensim.summarization.summarizer:Input text is expected to have at least 10 sentences.\n",
            "WARNING:gensim.summarization.summarizer:Input corpus is expected to have at least 10 documents.\n",
            "WARNING:gensim.summarization.summarizer:Input text is expected to have at least 10 sentences.\n",
            "WARNING:gensim.summarization.summarizer:Input corpus is expected to have at least 10 documents.\n",
            "WARNING:gensim.summarization.summarizer:Input text is expected to have at least 10 sentences.\n",
            "WARNING:gensim.summarization.summarizer:Input corpus is expected to have at least 10 documents.\n",
            "WARNING:gensim.summarization.summarizer:Please add more sentences to the text. The number of reachable nodes is below 3\n",
            "WARNING:gensim.summarization.summarizer:Couldn't get relevant sentences.\n",
            "WARNING:gensim.summarization.summarizer:Input text is expected to have at least 10 sentences.\n",
            "WARNING:gensim.summarization.summarizer:Input corpus is expected to have at least 10 documents.\n",
            "WARNING:gensim.summarization.summarizer:Input text is expected to have at least 10 sentences.\n",
            "WARNING:gensim.summarization.summarizer:Input corpus is expected to have at least 10 documents.\n",
            "WARNING:gensim.summarization.summarizer:Please add more sentences to the text. The number of reachable nodes is below 3\n",
            "WARNING:gensim.summarization.summarizer:Couldn't get relevant sentences.\n",
            "WARNING:gensim.summarization.summarizer:Input text is expected to have at least 10 sentences.\n",
            "WARNING:gensim.summarization.summarizer:Input corpus is expected to have at least 10 documents.\n",
            "WARNING:gensim.summarization.summarizer:Input text is expected to have at least 10 sentences.\n",
            "WARNING:gensim.summarization.summarizer:Input corpus is expected to have at least 10 documents.\n",
            "WARNING:gensim.summarization.summarizer:Input text is expected to have at least 10 sentences.\n",
            "WARNING:gensim.summarization.summarizer:Input corpus is expected to have at least 10 documents.\n",
            "WARNING:gensim.summarization.summarizer:Input text is expected to have at least 10 sentences.\n",
            "WARNING:gensim.summarization.summarizer:Input corpus is expected to have at least 10 documents.\n",
            "WARNING:gensim.summarization.summarizer:Input text is expected to have at least 10 sentences.\n",
            "WARNING:gensim.summarization.summarizer:Input corpus is expected to have at least 10 documents.\n",
            "WARNING:gensim.summarization.bm25:Average inverse document frequency is less than zero. Your corpus of 2 documents is either too small or it does not originate from natural text. BM25 may produce unintuitive results.\n",
            "WARNING:gensim.summarization.summarizer:Please add more sentences to the text. The number of reachable nodes is below 3\n",
            "WARNING:gensim.summarization.summarizer:Couldn't get relevant sentences.\n",
            "WARNING:gensim.summarization.summarizer:Input text is expected to have at least 10 sentences.\n",
            "WARNING:gensim.summarization.summarizer:Input corpus is expected to have at least 10 documents.\n",
            "WARNING:gensim.summarization.summarizer:Input text is expected to have at least 10 sentences.\n",
            "WARNING:gensim.summarization.summarizer:Input corpus is expected to have at least 10 documents.\n",
            "WARNING:gensim.summarization.summarizer:Input text is expected to have at least 10 sentences.\n",
            "WARNING:gensim.summarization.summarizer:Input corpus is expected to have at least 10 documents.\n",
            "WARNING:gensim.summarization.summarizer:Please add more sentences to the text. The number of reachable nodes is below 3\n",
            "WARNING:gensim.summarization.summarizer:Couldn't get relevant sentences.\n",
            "WARNING:gensim.summarization.summarizer:Input text is expected to have at least 10 sentences.\n",
            "WARNING:gensim.summarization.summarizer:Input corpus is expected to have at least 10 documents.\n",
            "WARNING:gensim.summarization.summarizer:Input text is expected to have at least 10 sentences.\n",
            "WARNING:gensim.summarization.summarizer:Input corpus is expected to have at least 10 documents.\n",
            "WARNING:gensim.summarization.summarizer:Input text is expected to have at least 10 sentences.\n",
            "WARNING:gensim.summarization.summarizer:Input corpus is expected to have at least 10 documents.\n",
            "WARNING:gensim.summarization.summarizer:Please add more sentences to the text. The number of reachable nodes is below 3\n",
            "WARNING:gensim.summarization.summarizer:Couldn't get relevant sentences.\n",
            "WARNING:gensim.summarization.summarizer:Input text is expected to have at least 10 sentences.\n",
            "WARNING:gensim.summarization.summarizer:Input corpus is expected to have at least 10 documents.\n",
            "WARNING:gensim.summarization.summarizer:Input text is expected to have at least 10 sentences.\n",
            "WARNING:gensim.summarization.summarizer:Input corpus is expected to have at least 10 documents.\n",
            "WARNING:gensim.summarization.summarizer:Input text is expected to have at least 10 sentences.\n",
            "WARNING:gensim.summarization.summarizer:Input corpus is expected to have at least 10 documents.\n",
            "WARNING:gensim.summarization.summarizer:Input text is expected to have at least 10 sentences.\n",
            "WARNING:gensim.summarization.summarizer:Input corpus is expected to have at least 10 documents.\n",
            "WARNING:gensim.summarization.summarizer:Input text is expected to have at least 10 sentences.\n",
            "WARNING:gensim.summarization.summarizer:Input corpus is expected to have at least 10 documents.\n",
            "WARNING:gensim.summarization.summarizer:Please add more sentences to the text. The number of reachable nodes is below 3\n",
            "WARNING:gensim.summarization.summarizer:Couldn't get relevant sentences.\n",
            "WARNING:gensim.summarization.summarizer:Input text is expected to have at least 10 sentences.\n",
            "WARNING:gensim.summarization.summarizer:Input corpus is expected to have at least 10 documents.\n",
            "WARNING:gensim.summarization.bm25:Average inverse document frequency is less than zero. Your corpus of 2 documents is either too small or it does not originate from natural text. BM25 may produce unintuitive results.\n",
            "WARNING:gensim.summarization.summarizer:Please add more sentences to the text. The number of reachable nodes is below 3\n",
            "WARNING:gensim.summarization.summarizer:Couldn't get relevant sentences.\n",
            "WARNING:gensim.summarization.summarizer:Input text is expected to have at least 10 sentences.\n",
            "WARNING:gensim.summarization.summarizer:Input corpus is expected to have at least 10 documents.\n",
            "WARNING:gensim.summarization.summarizer:Please add more sentences to the text. The number of reachable nodes is below 3\n",
            "WARNING:gensim.summarization.summarizer:Couldn't get relevant sentences.\n",
            "WARNING:gensim.summarization.summarizer:Input text is expected to have at least 10 sentences.\n",
            "WARNING:gensim.summarization.summarizer:Input corpus is expected to have at least 10 documents.\n",
            "WARNING:gensim.summarization.summarizer:Input text is expected to have at least 10 sentences.\n",
            "WARNING:gensim.summarization.summarizer:Input corpus is expected to have at least 10 documents.\n",
            "WARNING:gensim.summarization.summarizer:Input text is expected to have at least 10 sentences.\n",
            "WARNING:gensim.summarization.summarizer:Input corpus is expected to have at least 10 documents.\n",
            "WARNING:gensim.summarization.summarizer:Input text is expected to have at least 10 sentences.\n",
            "WARNING:gensim.summarization.summarizer:Input corpus is expected to have at least 10 documents.\n",
            "WARNING:gensim.summarization.summarizer:Input text is expected to have at least 10 sentences.\n",
            "WARNING:gensim.summarization.summarizer:Input corpus is expected to have at least 10 documents.\n",
            "WARNING:gensim.summarization.summarizer:Input text is expected to have at least 10 sentences.\n",
            "WARNING:gensim.summarization.summarizer:Input corpus is expected to have at least 10 documents.\n",
            "WARNING:gensim.summarization.summarizer:Please add more sentences to the text. The number of reachable nodes is below 3\n",
            "WARNING:gensim.summarization.summarizer:Couldn't get relevant sentences.\n",
            "WARNING:gensim.summarization.summarizer:Input text is expected to have at least 10 sentences.\n",
            "WARNING:gensim.summarization.summarizer:Input corpus is expected to have at least 10 documents.\n",
            "WARNING:gensim.summarization.summarizer:Input text is expected to have at least 10 sentences.\n",
            "WARNING:gensim.summarization.summarizer:Input corpus is expected to have at least 10 documents.\n",
            "WARNING:gensim.summarization.summarizer:Input text is expected to have at least 10 sentences.\n",
            "WARNING:gensim.summarization.summarizer:Input corpus is expected to have at least 10 documents.\n",
            "WARNING:gensim.summarization.summarizer:Please add more sentences to the text. The number of reachable nodes is below 3\n",
            "WARNING:gensim.summarization.summarizer:Couldn't get relevant sentences.\n",
            "WARNING:gensim.summarization.summarizer:Input text is expected to have at least 10 sentences.\n",
            "WARNING:gensim.summarization.summarizer:Input corpus is expected to have at least 10 documents.\n",
            "WARNING:gensim.summarization.summarizer:Please add more sentences to the text. The number of reachable nodes is below 3\n",
            "WARNING:gensim.summarization.summarizer:Couldn't get relevant sentences.\n",
            "WARNING:gensim.summarization.summarizer:Input text is expected to have at least 10 sentences.\n",
            "WARNING:gensim.summarization.summarizer:Input corpus is expected to have at least 10 documents.\n",
            "WARNING:gensim.summarization.summarizer:Input text is expected to have at least 10 sentences.\n",
            "WARNING:gensim.summarization.summarizer:Input corpus is expected to have at least 10 documents.\n",
            "WARNING:gensim.summarization.summarizer:Input text is expected to have at least 10 sentences.\n",
            "WARNING:gensim.summarization.summarizer:Input corpus is expected to have at least 10 documents.\n",
            "WARNING:gensim.summarization.summarizer:Input text is expected to have at least 10 sentences.\n",
            "WARNING:gensim.summarization.summarizer:Input corpus is expected to have at least 10 documents.\n",
            "WARNING:gensim.summarization.summarizer:Input text is expected to have at least 10 sentences.\n",
            "WARNING:gensim.summarization.summarizer:Input corpus is expected to have at least 10 documents.\n",
            "WARNING:gensim.summarization.summarizer:Input text is expected to have at least 10 sentences.\n",
            "WARNING:gensim.summarization.summarizer:Input corpus is expected to have at least 10 documents.\n",
            "WARNING:gensim.summarization.summarizer:Input text is expected to have at least 10 sentences.\n",
            "WARNING:gensim.summarization.summarizer:Input corpus is expected to have at least 10 documents.\n",
            "WARNING:gensim.summarization.summarizer:Input text is expected to have at least 10 sentences.\n",
            "WARNING:gensim.summarization.summarizer:Input corpus is expected to have at least 10 documents.\n",
            "WARNING:gensim.summarization.summarizer:Input text is expected to have at least 10 sentences.\n",
            "WARNING:gensim.summarization.summarizer:Input corpus is expected to have at least 10 documents.\n",
            "WARNING:gensim.summarization.summarizer:Input text is expected to have at least 10 sentences.\n",
            "WARNING:gensim.summarization.summarizer:Input corpus is expected to have at least 10 documents.\n",
            "WARNING:gensim.summarization.summarizer:Input text is expected to have at least 10 sentences.\n",
            "WARNING:gensim.summarization.summarizer:Input corpus is expected to have at least 10 documents.\n",
            "WARNING:gensim.summarization.summarizer:Input text is expected to have at least 10 sentences.\n",
            "WARNING:gensim.summarization.summarizer:Input corpus is expected to have at least 10 documents.\n",
            "WARNING:gensim.summarization.summarizer:Input text is expected to have at least 10 sentences.\n",
            "WARNING:gensim.summarization.summarizer:Input corpus is expected to have at least 10 documents.\n",
            "WARNING:gensim.summarization.summarizer:Please add more sentences to the text. The number of reachable nodes is below 3\n",
            "WARNING:gensim.summarization.summarizer:Couldn't get relevant sentences.\n",
            "WARNING:gensim.summarization.summarizer:Input text is expected to have at least 10 sentences.\n",
            "WARNING:gensim.summarization.summarizer:Input corpus is expected to have at least 10 documents.\n",
            "WARNING:gensim.summarization.summarizer:Input text is expected to have at least 10 sentences.\n",
            "WARNING:gensim.summarization.summarizer:Input corpus is expected to have at least 10 documents.\n",
            "WARNING:gensim.summarization.summarizer:Input text is expected to have at least 10 sentences.\n",
            "WARNING:gensim.summarization.summarizer:Input corpus is expected to have at least 10 documents.\n",
            "WARNING:gensim.summarization.summarizer:Input text is expected to have at least 10 sentences.\n",
            "WARNING:gensim.summarization.summarizer:Input corpus is expected to have at least 10 documents.\n",
            "WARNING:gensim.summarization.summarizer:Please add more sentences to the text. The number of reachable nodes is below 3\n",
            "WARNING:gensim.summarization.summarizer:Couldn't get relevant sentences.\n",
            "WARNING:gensim.summarization.summarizer:Input text is expected to have at least 10 sentences.\n",
            "WARNING:gensim.summarization.summarizer:Input corpus is expected to have at least 10 documents.\n",
            "WARNING:gensim.summarization.summarizer:Input text is expected to have at least 10 sentences.\n",
            "WARNING:gensim.summarization.summarizer:Input corpus is expected to have at least 10 documents.\n",
            "WARNING:gensim.summarization.summarizer:Input text is expected to have at least 10 sentences.\n",
            "WARNING:gensim.summarization.summarizer:Input corpus is expected to have at least 10 documents.\n",
            "WARNING:gensim.summarization.summarizer:Input text is expected to have at least 10 sentences.\n",
            "WARNING:gensim.summarization.summarizer:Input corpus is expected to have at least 10 documents.\n",
            "WARNING:gensim.summarization.summarizer:Please add more sentences to the text. The number of reachable nodes is below 3\n",
            "WARNING:gensim.summarization.summarizer:Couldn't get relevant sentences.\n",
            "WARNING:gensim.summarization.summarizer:Input text is expected to have at least 10 sentences.\n",
            "WARNING:gensim.summarization.summarizer:Input corpus is expected to have at least 10 documents.\n",
            "WARNING:gensim.summarization.summarizer:Input text is expected to have at least 10 sentences.\n",
            "WARNING:gensim.summarization.summarizer:Input corpus is expected to have at least 10 documents.\n",
            "WARNING:gensim.summarization.summarizer:Input text is expected to have at least 10 sentences.\n",
            "WARNING:gensim.summarization.summarizer:Input corpus is expected to have at least 10 documents.\n",
            "WARNING:gensim.summarization.summarizer:Input text is expected to have at least 10 sentences.\n",
            "WARNING:gensim.summarization.summarizer:Input corpus is expected to have at least 10 documents.\n",
            "WARNING:gensim.summarization.summarizer:Input text is expected to have at least 10 sentences.\n",
            "WARNING:gensim.summarization.summarizer:Input corpus is expected to have at least 10 documents.\n",
            "WARNING:gensim.summarization.summarizer:Input text is expected to have at least 10 sentences.\n",
            "WARNING:gensim.summarization.summarizer:Input corpus is expected to have at least 10 documents.\n",
            "WARNING:gensim.summarization.summarizer:Input text is expected to have at least 10 sentences.\n",
            "WARNING:gensim.summarization.summarizer:Input corpus is expected to have at least 10 documents.\n",
            "WARNING:gensim.summarization.summarizer:Input text is expected to have at least 10 sentences.\n",
            "WARNING:gensim.summarization.summarizer:Input corpus is expected to have at least 10 documents.\n",
            "WARNING:gensim.summarization.summarizer:Please add more sentences to the text. The number of reachable nodes is below 3\n",
            "WARNING:gensim.summarization.summarizer:Couldn't get relevant sentences.\n",
            "WARNING:gensim.summarization.summarizer:Input text is expected to have at least 10 sentences.\n",
            "WARNING:gensim.summarization.summarizer:Input corpus is expected to have at least 10 documents.\n",
            "WARNING:gensim.summarization.summarizer:Input text is expected to have at least 10 sentences.\n",
            "WARNING:gensim.summarization.summarizer:Input corpus is expected to have at least 10 documents.\n",
            "WARNING:gensim.summarization.summarizer:Input text is expected to have at least 10 sentences.\n",
            "WARNING:gensim.summarization.summarizer:Input corpus is expected to have at least 10 documents.\n",
            "WARNING:gensim.summarization.summarizer:Input text is expected to have at least 10 sentences.\n",
            "WARNING:gensim.summarization.summarizer:Input corpus is expected to have at least 10 documents.\n",
            "WARNING:gensim.summarization.summarizer:Input text is expected to have at least 10 sentences.\n",
            "WARNING:gensim.summarization.summarizer:Input corpus is expected to have at least 10 documents.\n",
            "WARNING:gensim.summarization.summarizer:Input text is expected to have at least 10 sentences.\n",
            "WARNING:gensim.summarization.summarizer:Input corpus is expected to have at least 10 documents.\n",
            "WARNING:gensim.summarization.summarizer:Input text is expected to have at least 10 sentences.\n",
            "WARNING:gensim.summarization.summarizer:Input corpus is expected to have at least 10 documents.\n",
            "WARNING:gensim.summarization.summarizer:Input text is expected to have at least 10 sentences.\n",
            "WARNING:gensim.summarization.summarizer:Input corpus is expected to have at least 10 documents.\n",
            "WARNING:gensim.summarization.summarizer:Input text is expected to have at least 10 sentences.\n",
            "WARNING:gensim.summarization.summarizer:Input corpus is expected to have at least 10 documents.\n",
            "WARNING:gensim.summarization.summarizer:Input text is expected to have at least 10 sentences.\n",
            "WARNING:gensim.summarization.summarizer:Input corpus is expected to have at least 10 documents.\n",
            "WARNING:gensim.summarization.summarizer:Please add more sentences to the text. The number of reachable nodes is below 3\n",
            "WARNING:gensim.summarization.summarizer:Couldn't get relevant sentences.\n",
            "WARNING:gensim.summarization.summarizer:Input text is expected to have at least 10 sentences.\n",
            "WARNING:gensim.summarization.summarizer:Input corpus is expected to have at least 10 documents.\n",
            "WARNING:gensim.summarization.bm25:Average inverse document frequency is less than zero. Your corpus of 2 documents is either too small or it does not originate from natural text. BM25 may produce unintuitive results.\n",
            "WARNING:gensim.summarization.summarizer:Please add more sentences to the text. The number of reachable nodes is below 3\n",
            "WARNING:gensim.summarization.summarizer:Couldn't get relevant sentences.\n",
            "WARNING:gensim.summarization.summarizer:Input text is expected to have at least 10 sentences.\n",
            "WARNING:gensim.summarization.summarizer:Input corpus is expected to have at least 10 documents.\n",
            "WARNING:gensim.summarization.summarizer:Please add more sentences to the text. The number of reachable nodes is below 3\n",
            "WARNING:gensim.summarization.summarizer:Couldn't get relevant sentences.\n",
            "WARNING:gensim.summarization.summarizer:Input text is expected to have at least 10 sentences.\n",
            "WARNING:gensim.summarization.summarizer:Input corpus is expected to have at least 10 documents.\n",
            "WARNING:gensim.summarization.bm25:Average inverse document frequency is less than zero. Your corpus of 2 documents is either too small or it does not originate from natural text. BM25 may produce unintuitive results.\n",
            "WARNING:gensim.summarization.summarizer:Please add more sentences to the text. The number of reachable nodes is below 3\n",
            "WARNING:gensim.summarization.summarizer:Couldn't get relevant sentences.\n",
            "WARNING:gensim.summarization.summarizer:Input text is expected to have at least 10 sentences.\n",
            "WARNING:gensim.summarization.summarizer:Input corpus is expected to have at least 10 documents.\n",
            "WARNING:gensim.summarization.summarizer:Input text is expected to have at least 10 sentences.\n",
            "WARNING:gensim.summarization.summarizer:Input corpus is expected to have at least 10 documents.\n",
            "WARNING:gensim.summarization.summarizer:Input text is expected to have at least 10 sentences.\n",
            "WARNING:gensim.summarization.summarizer:Input corpus is expected to have at least 10 documents.\n",
            "WARNING:gensim.summarization.summarizer:Input text is expected to have at least 10 sentences.\n",
            "WARNING:gensim.summarization.summarizer:Input corpus is expected to have at least 10 documents.\n",
            "WARNING:gensim.summarization.summarizer:Input text is expected to have at least 10 sentences.\n",
            "WARNING:gensim.summarization.summarizer:Input corpus is expected to have at least 10 documents.\n",
            "WARNING:gensim.summarization.summarizer:Input text is expected to have at least 10 sentences.\n",
            "WARNING:gensim.summarization.summarizer:Input corpus is expected to have at least 10 documents.\n",
            "WARNING:gensim.summarization.bm25:Average inverse document frequency is less than zero. Your corpus of 2 documents is either too small or it does not originate from natural text. BM25 may produce unintuitive results.\n",
            "WARNING:gensim.summarization.summarizer:Please add more sentences to the text. The number of reachable nodes is below 3\n",
            "WARNING:gensim.summarization.summarizer:Couldn't get relevant sentences.\n",
            "WARNING:gensim.summarization.summarizer:Input text is expected to have at least 10 sentences.\n",
            "WARNING:gensim.summarization.summarizer:Input corpus is expected to have at least 10 documents.\n",
            "WARNING:gensim.summarization.summarizer:Please add more sentences to the text. The number of reachable nodes is below 3\n",
            "WARNING:gensim.summarization.summarizer:Couldn't get relevant sentences.\n"
          ]
        },
        {
          "output_type": "execute_result",
          "data": {
            "text/plain": [
              "            Query                                        Description  \\\n",
              "0  Data Scientist  Job Description As a Junior Data Scientist at ...   \n",
              "1  Data Scientist  OVERALL SUMMARY As a Data Scientist on the Dat...   \n",
              "2  Data Scientist  The Team: The Data science team is a newly for...   \n",
              "3  Data Scientist  We now have a need for junior Data Scientist(s...   \n",
              "4  Data Scientist  Do you want to help guide the core business of...   \n",
              "5  Data Scientist  The Mayor's Office of Data Analytics (MODA) is...   \n",
              "6  Data Scientist  Smartly.io is a fast-growing company aiming to...   \n",
              "7  Data Scientist  We have a client that is looking for a data sc...   \n",
              "8  Data Scientist  Marketing Statement MetroPlus Health Plan prov...   \n",
              "9  Data Scientist  Job Description: Junior Data Scientist, Member...   \n",
              "\n",
              "                                 cleaned_description  length  \\\n",
              "0   and making choices about how you get the job ...     170   \n",
              "1   lead the development of data science solution...     156   \n",
              "2   as a junior data scientist you will be respon...     240   \n",
              "3  we now have a need for junior data scientists ...     176   \n",
              "4   drive business decisions and help tailor our ...     224   \n",
              "5   will include but will typically entail produc...     497   \n",
              "6  smartly.io is a fastgrowing company aiming to ...     546   \n",
              "7  we have a client that is looking for a data sc...     102   \n",
              "8   as required minimum qualifications 5 years pr...     203   \n",
              "9   source and query data required for both ongoi...     426   \n",
              "\n",
              "                            extractive_summarization  \n",
              "0  ncappx travel of 25 is required required techn...  \n",
              "1  hbo go and hbo.com mine hbo and other third pa...  \n",
              "2  as a junior data scientist you will be respons...  \n",
              "3  skills  experience required exceptional numeri...  \n",
              "4  drive business decisions and help tailor our o...  \n",
              "5  and other duties as assigned by the chief anal...  \n",
              "6  smartly.io is a fastgrowing company aiming to ...  \n",
              "7  we have a client that is looking for a data sc...  \n",
              "8  able to understand various data structures and...  \n",
              "9  source and query data required for both ongoin...  "
            ],
            "text/html": [
              "\n",
              "  <div id=\"df-e799adb3-8146-4fec-ad96-4aa97c036641\">\n",
              "    <div class=\"colab-df-container\">\n",
              "      <div>\n",
              "<style scoped>\n",
              "    .dataframe tbody tr th:only-of-type {\n",
              "        vertical-align: middle;\n",
              "    }\n",
              "\n",
              "    .dataframe tbody tr th {\n",
              "        vertical-align: top;\n",
              "    }\n",
              "\n",
              "    .dataframe thead th {\n",
              "        text-align: right;\n",
              "    }\n",
              "</style>\n",
              "<table border=\"1\" class=\"dataframe\">\n",
              "  <thead>\n",
              "    <tr style=\"text-align: right;\">\n",
              "      <th></th>\n",
              "      <th>Query</th>\n",
              "      <th>Description</th>\n",
              "      <th>cleaned_description</th>\n",
              "      <th>length</th>\n",
              "      <th>extractive_summarization</th>\n",
              "    </tr>\n",
              "  </thead>\n",
              "  <tbody>\n",
              "    <tr>\n",
              "      <th>0</th>\n",
              "      <td>Data Scientist</td>\n",
              "      <td>Job Description As a Junior Data Scientist at ...</td>\n",
              "      <td>and making choices about how you get the job ...</td>\n",
              "      <td>170</td>\n",
              "      <td>ncappx travel of 25 is required required techn...</td>\n",
              "    </tr>\n",
              "    <tr>\n",
              "      <th>1</th>\n",
              "      <td>Data Scientist</td>\n",
              "      <td>OVERALL SUMMARY As a Data Scientist on the Dat...</td>\n",
              "      <td>lead the development of data science solution...</td>\n",
              "      <td>156</td>\n",
              "      <td>hbo go and hbo.com mine hbo and other third pa...</td>\n",
              "    </tr>\n",
              "    <tr>\n",
              "      <th>2</th>\n",
              "      <td>Data Scientist</td>\n",
              "      <td>The Team: The Data science team is a newly for...</td>\n",
              "      <td>as a junior data scientist you will be respon...</td>\n",
              "      <td>240</td>\n",
              "      <td>as a junior data scientist you will be respons...</td>\n",
              "    </tr>\n",
              "    <tr>\n",
              "      <th>3</th>\n",
              "      <td>Data Scientist</td>\n",
              "      <td>We now have a need for junior Data Scientist(s...</td>\n",
              "      <td>we now have a need for junior data scientists ...</td>\n",
              "      <td>176</td>\n",
              "      <td>skills  experience required exceptional numeri...</td>\n",
              "    </tr>\n",
              "    <tr>\n",
              "      <th>4</th>\n",
              "      <td>Data Scientist</td>\n",
              "      <td>Do you want to help guide the core business of...</td>\n",
              "      <td>drive business decisions and help tailor our ...</td>\n",
              "      <td>224</td>\n",
              "      <td>drive business decisions and help tailor our o...</td>\n",
              "    </tr>\n",
              "    <tr>\n",
              "      <th>5</th>\n",
              "      <td>Data Scientist</td>\n",
              "      <td>The Mayor's Office of Data Analytics (MODA) is...</td>\n",
              "      <td>will include but will typically entail produc...</td>\n",
              "      <td>497</td>\n",
              "      <td>and other duties as assigned by the chief anal...</td>\n",
              "    </tr>\n",
              "    <tr>\n",
              "      <th>6</th>\n",
              "      <td>Data Scientist</td>\n",
              "      <td>Smartly.io is a fast-growing company aiming to...</td>\n",
              "      <td>smartly.io is a fastgrowing company aiming to ...</td>\n",
              "      <td>546</td>\n",
              "      <td>smartly.io is a fastgrowing company aiming to ...</td>\n",
              "    </tr>\n",
              "    <tr>\n",
              "      <th>7</th>\n",
              "      <td>Data Scientist</td>\n",
              "      <td>We have a client that is looking for a data sc...</td>\n",
              "      <td>we have a client that is looking for a data sc...</td>\n",
              "      <td>102</td>\n",
              "      <td>we have a client that is looking for a data sc...</td>\n",
              "    </tr>\n",
              "    <tr>\n",
              "      <th>8</th>\n",
              "      <td>Data Scientist</td>\n",
              "      <td>Marketing Statement MetroPlus Health Plan prov...</td>\n",
              "      <td>as required minimum qualifications 5 years pr...</td>\n",
              "      <td>203</td>\n",
              "      <td>able to understand various data structures and...</td>\n",
              "    </tr>\n",
              "    <tr>\n",
              "      <th>9</th>\n",
              "      <td>Data Scientist</td>\n",
              "      <td>Job Description: Junior Data Scientist, Member...</td>\n",
              "      <td>source and query data required for both ongoi...</td>\n",
              "      <td>426</td>\n",
              "      <td>source and query data required for both ongoin...</td>\n",
              "    </tr>\n",
              "  </tbody>\n",
              "</table>\n",
              "</div>\n",
              "      <button class=\"colab-df-convert\" onclick=\"convertToInteractive('df-e799adb3-8146-4fec-ad96-4aa97c036641')\"\n",
              "              title=\"Convert this dataframe to an interactive table.\"\n",
              "              style=\"display:none;\">\n",
              "        \n",
              "  <svg xmlns=\"http://www.w3.org/2000/svg\" height=\"24px\"viewBox=\"0 0 24 24\"\n",
              "       width=\"24px\">\n",
              "    <path d=\"M0 0h24v24H0V0z\" fill=\"none\"/>\n",
              "    <path d=\"M18.56 5.44l.94 2.06.94-2.06 2.06-.94-2.06-.94-.94-2.06-.94 2.06-2.06.94zm-11 1L8.5 8.5l.94-2.06 2.06-.94-2.06-.94L8.5 2.5l-.94 2.06-2.06.94zm10 10l.94 2.06.94-2.06 2.06-.94-2.06-.94-.94-2.06-.94 2.06-2.06.94z\"/><path d=\"M17.41 7.96l-1.37-1.37c-.4-.4-.92-.59-1.43-.59-.52 0-1.04.2-1.43.59L10.3 9.45l-7.72 7.72c-.78.78-.78 2.05 0 2.83L4 21.41c.39.39.9.59 1.41.59.51 0 1.02-.2 1.41-.59l7.78-7.78 2.81-2.81c.8-.78.8-2.07 0-2.86zM5.41 20L4 18.59l7.72-7.72 1.47 1.35L5.41 20z\"/>\n",
              "  </svg>\n",
              "      </button>\n",
              "      \n",
              "  <style>\n",
              "    .colab-df-container {\n",
              "      display:flex;\n",
              "      flex-wrap:wrap;\n",
              "      gap: 12px;\n",
              "    }\n",
              "\n",
              "    .colab-df-convert {\n",
              "      background-color: #E8F0FE;\n",
              "      border: none;\n",
              "      border-radius: 50%;\n",
              "      cursor: pointer;\n",
              "      display: none;\n",
              "      fill: #1967D2;\n",
              "      height: 32px;\n",
              "      padding: 0 0 0 0;\n",
              "      width: 32px;\n",
              "    }\n",
              "\n",
              "    .colab-df-convert:hover {\n",
              "      background-color: #E2EBFA;\n",
              "      box-shadow: 0px 1px 2px rgba(60, 64, 67, 0.3), 0px 1px 3px 1px rgba(60, 64, 67, 0.15);\n",
              "      fill: #174EA6;\n",
              "    }\n",
              "\n",
              "    [theme=dark] .colab-df-convert {\n",
              "      background-color: #3B4455;\n",
              "      fill: #D2E3FC;\n",
              "    }\n",
              "\n",
              "    [theme=dark] .colab-df-convert:hover {\n",
              "      background-color: #434B5C;\n",
              "      box-shadow: 0px 1px 3px 1px rgba(0, 0, 0, 0.15);\n",
              "      filter: drop-shadow(0px 1px 2px rgba(0, 0, 0, 0.3));\n",
              "      fill: #FFFFFF;\n",
              "    }\n",
              "  </style>\n",
              "\n",
              "      <script>\n",
              "        const buttonEl =\n",
              "          document.querySelector('#df-e799adb3-8146-4fec-ad96-4aa97c036641 button.colab-df-convert');\n",
              "        buttonEl.style.display =\n",
              "          google.colab.kernel.accessAllowed ? 'block' : 'none';\n",
              "\n",
              "        async function convertToInteractive(key) {\n",
              "          const element = document.querySelector('#df-e799adb3-8146-4fec-ad96-4aa97c036641');\n",
              "          const dataTable =\n",
              "            await google.colab.kernel.invokeFunction('convertToInteractive',\n",
              "                                                     [key], {});\n",
              "          if (!dataTable) return;\n",
              "\n",
              "          const docLinkHtml = 'Like what you see? Visit the ' +\n",
              "            '<a target=\"_blank\" href=https://colab.research.google.com/notebooks/data_table.ipynb>data table notebook</a>'\n",
              "            + ' to learn more about interactive tables.';\n",
              "          element.innerHTML = '';\n",
              "          dataTable['output_type'] = 'display_data';\n",
              "          await google.colab.output.renderOutput(dataTable, element);\n",
              "          const docLink = document.createElement('div');\n",
              "          docLink.innerHTML = docLinkHtml;\n",
              "          element.appendChild(docLink);\n",
              "        }\n",
              "      </script>\n",
              "    </div>\n",
              "  </div>\n",
              "  "
            ]
          },
          "metadata": {},
          "execution_count": 419
        }
      ]
    },
    {
      "cell_type": "code",
      "source": [
        "#df.to_csv('extractive_dataset.csv')"
      ],
      "metadata": {
        "id": "RNHT9aHsNXel"
      },
      "execution_count": 422,
      "outputs": []
    },
    {
      "cell_type": "code",
      "source": [
        "print(df.extractive_summarization[1500])"
      ],
      "metadata": {
        "colab": {
          "base_uri": "https://localhost:8080/"
        },
        "id": "HqGSPO8gMIVX",
        "outputId": "aba3df70-9f37-487e-d735-8c09692d2152"
      },
      "execution_count": 427,
      "outputs": [
        {
          "output_type": "stream",
          "name": "stdout",
          "text": [
            "and deploy solutions based on realworld data basic qualifications possess a bachelors degree or higher completed and verified prior to start in a science or engineering discipline from an accredited university minimum of one 1 year of experience postacademic working with real world data preferred qualifications masters degree or higher in computer science.\n",
            "applied mathematics or related discipline from an accredited university minimum two 2 years of experience in machine learning.\n",
            "qualified applicants may be considered as data science specialist openings occur at 3m maplewood.\n"
          ]
        }
      ]
    },
    {
      "cell_type": "markdown",
      "source": [
        "## T5 MODEL"
      ],
      "metadata": {
        "id": "_AhO6F0Y0pqH"
      }
    },
    {
      "cell_type": "code",
      "source": [
        "#@title Installs\n",
        "\n",
        "!pip install pydot --quiet\n",
        "!pip install transformers --quiet\n",
        "!pip install sentencepiece --quiet\n",
        "!pip install nltk --quiet"
      ],
      "metadata": {
        "id": "GJ-nMa6zJ5Vt"
      },
      "execution_count": null,
      "outputs": []
    },
    {
      "cell_type": "code",
      "source": [
        "#@title Imports\n",
        "\n",
        "import numpy as np\n",
        "import tensorflow as tf\n",
        "from tensorflow import keras\n",
        "\n",
        "import tensorflow_datasets as tfds\n",
        "# import tensorflow_text as tf_text\n",
        "\n",
        "from transformers import T5Tokenizer, TFT5Model, TFT5ForConditionalGeneration\n",
        "\n",
        "\n",
        "import sklearn as sk\n",
        "import os\n",
        "import nltk\n",
        "\n",
        "import matplotlib.pyplot as plt\n",
        "\n",
        "import re\n",
        "\n",
        "import numpy as np\n",
        "\n",
        "from sklearn.feature_extraction.text import CountVectorizer"
      ],
      "metadata": {
        "id": "8ny5naCYJ5gx"
      },
      "execution_count": null,
      "outputs": []
    },
    {
      "cell_type": "code",
      "source": [
        "t5_model = TFT5ForConditionalGeneration.from_pretrained('t5-large')\n",
        "t5_tokenizer = T5Tokenizer.from_pretrained('t5-large')\n",
        "\n",
        "t5_model.summary()"
      ],
      "metadata": {
        "colab": {
          "base_uri": "https://localhost:8080/",
          "height": 544,
          "referenced_widgets": [
            "3c0c5531e034405aa6e78749abe32b33",
            "906bacafd6b24eb0878d4d4e2f46af34",
            "a076acc48bbc4adaa0389717dfc15f93",
            "3e116df550e640fd9759dfe1c42c247f",
            "2dad08c050c04f97856b70547b2f8e9c",
            "7f5e9e70677c4ab08e035d89f596a2a7",
            "e2bf507c3b634e4ea6f88404a6198209",
            "951fc2fad50e47c38566adbef5ebcb50",
            "80f83400de10484aa64039c347724a7a",
            "5605c60751794e70b291e489faa0dde5",
            "9419fa2ce6804b3c9aa21882d4538a0f",
            "7f4b3c40dc884ad2809e96241f3febad",
            "b4c51346d9c644479bc1106917ec8645",
            "4cfdbb989c804018935185391f1f2f16",
            "3d78efaa664f4001b8d14ef624e268c5",
            "e58baabf3c174057842b550f51295a60",
            "8f82bec8e8c14b68986cef99579e3346",
            "b8cdd917629740c19e351ff4a6269150",
            "e57d6e690e634882aafc59d1fb821261",
            "f6736a563a8a408fabb8d970d62b938a",
            "f9bacf413b3a4d9380dac2d4f8d3660e",
            "34f04bfbb5254413af203bed9eb2cae2",
            "f967ee31af4b41b195df998e95bb779f",
            "eae295b509834c539a68c36d21ede448",
            "337164757cd14251b1094419b1066b5d",
            "b64e63b323f644ffa0a51a3464bbf667",
            "742d2c72a1cd4dd98baf37d2a1a1e0ba",
            "27ca59945a904531b91c47319401d75e",
            "1302120fcb6947008461674a957ec4a9",
            "59b27b08f4664529a5a72c085b879493",
            "a9cd67e1a5dc4f388300de1781b02d0e",
            "583def0035424cfa8800267573a5ca1c",
            "764f928e2d31489ab7790e4bbdc4f470"
          ]
        },
        "id": "bofbKOQoIXqn",
        "outputId": "76002887-684c-4b71-ad5b-39ec781219dd"
      },
      "execution_count": null,
      "outputs": [
        {
          "output_type": "display_data",
          "data": {
            "text/plain": [
              "Downloading:   0%|          | 0.00/1.17k [00:00<?, ?B/s]"
            ],
            "application/vnd.jupyter.widget-view+json": {
              "version_major": 2,
              "version_minor": 0,
              "model_id": "3c0c5531e034405aa6e78749abe32b33"
            }
          },
          "metadata": {}
        },
        {
          "output_type": "display_data",
          "data": {
            "text/plain": [
              "Downloading:   0%|          | 0.00/2.75G [00:00<?, ?B/s]"
            ],
            "application/vnd.jupyter.widget-view+json": {
              "version_major": 2,
              "version_minor": 0,
              "model_id": "7f4b3c40dc884ad2809e96241f3febad"
            }
          },
          "metadata": {}
        },
        {
          "output_type": "stream",
          "name": "stderr",
          "text": [
            "All model checkpoint layers were used when initializing TFT5ForConditionalGeneration.\n",
            "\n",
            "All the layers of TFT5ForConditionalGeneration were initialized from the model checkpoint at t5-large.\n",
            "If your task is similar to the task the model of the checkpoint was trained on, you can already use TFT5ForConditionalGeneration for predictions without further training.\n"
          ]
        },
        {
          "output_type": "display_data",
          "data": {
            "text/plain": [
              "Downloading:   0%|          | 0.00/773k [00:00<?, ?B/s]"
            ],
            "application/vnd.jupyter.widget-view+json": {
              "version_major": 2,
              "version_minor": 0,
              "model_id": "f967ee31af4b41b195df998e95bb779f"
            }
          },
          "metadata": {}
        },
        {
          "output_type": "stream",
          "name": "stdout",
          "text": [
            "Model: \"tft5_for_conditional_generation\"\n",
            "_________________________________________________________________\n",
            " Layer (type)                Output Shape              Param #   \n",
            "=================================================================\n",
            " shared (TFSharedEmbeddings)  multiple                 32899072  \n",
            "                                                                 \n",
            " encoder (TFT5MainLayer)     multiple                  302040576 \n",
            "                                                                 \n",
            " decoder (TFT5MainLayer)     multiple                  402728448 \n",
            "                                                                 \n",
            "=================================================================\n",
            "Total params: 737,668,096\n",
            "Trainable params: 737,668,096\n",
            "Non-trainable params: 0\n",
            "_________________________________________________________________\n"
          ]
        },
        {
          "output_type": "stream",
          "name": "stderr",
          "text": [
            "/usr/local/lib/python3.7/dist-packages/transformers/models/t5/tokenization_t5.py:174: FutureWarning: This tokenizer was incorrectly instantiated with a model max length of 512 which will be corrected in Transformers v5.\n",
            "For now, this behavior is kept to avoid breaking backwards compatibility when padding/encoding with `truncation is True`.\n",
            "- Be aware that you SHOULD NOT rely on t5-large automatically truncating your input to 512 when padding/encoding.\n",
            "- If you want to encode/pad to sequences longer than 512 you can either instantiate this tokenizer with `model_max_length` or pass `max_length` when encoding/padding.\n",
            "- To avoid this warning, please instantiate this tokenizer with `model_max_length` set to your preferred value.\n",
            "  FutureWarning,\n"
          ]
        }
      ]
    },
    {
      "cell_type": "code",
      "source": [
        "t5_input_text = \"summarize: \" + ARTICLE_TO_SUMMARIZE\n",
        "t5_inputs = t5_tokenizer([t5_input_text], return_tensors='tf')"
      ],
      "metadata": {
        "colab": {
          "base_uri": "https://localhost:8080/"
        },
        "id": "Tbyoyaa8Jzur",
        "outputId": "ff633c5d-ce6c-496e-8d25-2c37273beeb9"
      },
      "execution_count": null,
      "outputs": [
        {
          "output_type": "stream",
          "name": "stderr",
          "text": [
            "Token indices sequence length is longer than the specified maximum sequence length for this model (805 > 512). Running this sequence through the model will result in indexing errors\n"
          ]
        }
      ]
    },
    {
      "cell_type": "code",
      "source": [
        ""
      ],
      "metadata": {
        "id": "zan1a0eXKQvu"
      },
      "execution_count": null,
      "outputs": []
    },
    {
      "cell_type": "code",
      "source": [
        "# Generate Summary\n",
        "t5_summary_ids = t5_model.generate(t5_inputs['input_ids'])\n",
        "\n",
        "print([t5_tokenizer.decode(g, skip_special_tokens=True, \n",
        "                           clean_up_tokenization_spaces=False) for g in t5_summary_ids])"
      ],
      "metadata": {
        "colab": {
          "base_uri": "https://localhost:8080/"
        },
        "id": "pDSuf8K7KU5O",
        "outputId": "342ff6d5-d6c8-4358-8bed-6a4babce6c53"
      },
      "execution_count": null,
      "outputs": [
        {
          "output_type": "stream",
          "name": "stdout",
          "text": [
            "['Trane is looking for a data scientist to join a world-class team']\n"
          ]
        }
      ]
    },
    {
      "cell_type": "code",
      "source": [
        "t5_summary_ids = t5_model.generate(t5_inputs['input_ids'],\n",
        "                                    num_beams=3,\n",
        "                                    no_repeat_ngram_size=1,\n",
        "                                    min_length=20,\n",
        "                                    max_length=100)\n",
        "                             \n",
        "print([t5_tokenizer.decode(g, skip_special_tokens=True, \n",
        "                           clean_up_tokenization_spaces=False) for g in t5_summary_ids])"
      ],
      "metadata": {
        "colab": {
          "base_uri": "https://localhost:8080/"
        },
        "id": "fngHiuVJKU_E",
        "outputId": "c9369bc3-23c6-41f6-893b-7ca064880631"
      },
      "execution_count": null,
      "outputs": [
        {
          "output_type": "stream",
          "name": "stdout",
          "text": [
            "[\"Ingersoll Rand is looking for a data scientist to join its world-class team in the area of industrial internet (iot), equipment performance management and customer's building systems.\"]\n"
          ]
        }
      ]
    },
    {
      "cell_type": "code",
      "source": [
        ""
      ],
      "metadata": {
        "id": "mhh7B8BmKVNY"
      },
      "execution_count": null,
      "outputs": []
    }
  ]
}