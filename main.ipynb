{
 "cells": [
  {
   "cell_type": "code",
   "execution_count": 2,
   "metadata": {},
   "outputs": [
    {
     "name": "stdout",
     "output_type": "stream",
     "text": [
      "                   Query                                          Job Title  \\\n",
      "ID                                                                            \n",
      "1         Data Scientist               Junior Data Scientist Apprenticeship   \n",
      "2         Data Scientist                HBO Data Scientist, Content Science   \n",
      "3         Data Scientist                              Junior Data Scientist   \n",
      "4         Data Scientist                                  Jr Data Scientist   \n",
      "5         Data Scientist                    Data Scientist, Premium Content   \n",
      "...                  ...                                                ...   \n",
      "9996   Network Architect                                 Learning Architect   \n",
      "9997   Network Architect                                  Systems Architect   \n",
      "9998   Network Architect                                 Hardware Architect   \n",
      "9999   Network Architect   Software Development Engineer, Full Stack – E...   \n",
      "10000  Network Architect                                          Architect   \n",
      "\n",
      "                                             Description  Description Length  \\\n",
      "ID                                                                             \n",
      "1      Job Description As a Junior Data Scientist at ...                5183   \n",
      "2      OVERALL SUMMARY As a Data Scientist on the Dat...                1813   \n",
      "3      The Team: The Data science team is a newly for...                2859   \n",
      "4      We now have a need for junior Data Scientist(s...                1275   \n",
      "5      Do you want to help guide the core business of...                2698   \n",
      "...                                                  ...                 ...   \n",
      "9996   The opportunity Our customers understand that ...                3209   \n",
      "9997   The NASA Ames Research Center has the requirem...                1252   \n",
      "9998   What You'll Do Distinguished Engineer with pro...                3294   \n",
      "9999   Software Development Engineer, Full Stack – En...                3128   \n",
      "10000  Architect San Francisco, CA Leading provider o...                1952   \n",
      "\n",
      "                                     Cleaned Description  \\\n",
      "ID                                                         \n",
      "1      you will also master different technologies fo...   \n",
      "2      primary responsibilities lead the development ...   \n",
      "3      global ratings that will be responsible for bu...   \n",
      "4      skills experience required exceptional numeric...   \n",
      "5      learning and improving is part of our daily ro...   \n",
      "...                                                  ...   \n",
      "9996   they know that enablement and skill developmen...   \n",
      "9997   the nasa ames research center has the requirem...   \n",
      "9998   who you are minimum qualifications actively pa...   \n",
      "9999   varmour is focused on providing that solution....   \n",
      "10000  architect san francisco ca leading provider of...   \n",
      "\n",
      "       Cleaned Description Length  Reduction  \n",
      "ID                                            \n",
      "1                            3276  36.793363  \n",
      "2                            1130  37.672366  \n",
      "3                             743  74.011892  \n",
      "4                             827  35.137255  \n",
      "5                             626  76.797628  \n",
      "...                           ...        ...  \n",
      "9996                         1483  53.786226  \n",
      "9997                         1173   6.309904  \n",
      "9998                         2156  34.547662  \n",
      "9999                         1735  44.533248  \n",
      "10000                         884  54.713115  \n",
      "\n",
      "[10000 rows x 7 columns]\n"
     ]
    }
   ],
   "source": [
    "import pandas as pd\n",
    "import sentencepiece\n",
    "import src.process_text\n",
    "# import tensorflow as tf\n",
    "\n",
    "print(src.process_text.Summarizer(\n",
    "\tmodel='google/t5-v1_1-base',\n",
    "\tfile='.\\\\dataset\\\\Job-Recommendation-Engine-master\\\\Results\\\\JobsDataset.csv',\n",
    ").dataset)"
   ]
  }
 ],
 "metadata": {
  "kernelspec": {
   "display_name": "Python 3.10.2 64-bit",
   "language": "python",
   "name": "python3"
  },
  "language_info": {
   "codemirror_mode": {
    "name": "ipython",
    "version": 3
   },
   "file_extension": ".py",
   "mimetype": "text/x-python",
   "name": "python",
   "nbconvert_exporter": "python",
   "pygments_lexer": "ipython3",
   "version": "3.10.2"
  },
  "orig_nbformat": 4,
  "vscode": {
   "interpreter": {
    "hash": "fe43710702d5850dfee1dbf31277691da9595033006f66cc9e8c070f5cb86103"
   }
  }
 },
 "nbformat": 4,
 "nbformat_minor": 2
}
